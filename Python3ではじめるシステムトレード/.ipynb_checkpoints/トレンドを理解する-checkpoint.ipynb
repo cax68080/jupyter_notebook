{
 "cells": [
  {
   "cell_type": "markdown",
   "id": "153eb3cf",
   "metadata": {},
   "source": [
    "## 5.2 日本経済と日経平均株価"
   ]
  },
  {
   "cell_type": "code",
   "execution_count": 10,
   "id": "2f1f0864",
   "metadata": {
    "collapsed": true
   },
   "outputs": [
    {
     "name": "stdout",
     "output_type": "stream",
     "text": [
      "Collecting pandas-datareader\n"
     ]
    },
    {
     "name": "stderr",
     "output_type": "stream",
     "text": [
      "WARNING: Ignoring invalid distribution - (c:\\programdata\\anaconda3\\lib\\site-packages)"
     ]
    },
    {
     "name": "stdout",
     "output_type": "stream",
     "text": [
      "  Downloading pandas_datareader-0.10.0-py3-none-any.whl (109 kB)\n",
      "     -------------------------------------- 109.5/109.5 kB 6.2 MB/s eta 0:00:00\n",
      "Requirement already satisfied: lxml in c:\\programdata\\anaconda3\\lib\\site-packages (from pandas-datareader) (4.6.3)\n",
      "Requirement already satisfied: pandas>=0.23 in c:\\programdata\\anaconda3\\lib\\site-packages (from pandas-datareader) (1.5.2)\n",
      "Requirement already satisfied: requests>=2.19.0 in c:\\programdata\\anaconda3\\lib\\site-packages (from pandas-datareader) (2.28.2)\n",
      "Requirement already satisfied: python-dateutil>=2.8.1 in c:\\programdata\\anaconda3\\lib\\site-packages (from pandas>=0.23->pandas-datareader) (2.8.2)\n",
      "Requirement already satisfied: pytz>=2020.1 in c:\\programdata\\anaconda3\\lib\\site-packages (from pandas>=0.23->pandas-datareader) (2021.3)\n",
      "Requirement already satisfied: numpy>=1.20.3 in c:\\programdata\\anaconda3\\lib\\site-packages (from pandas>=0.23->pandas-datareader) (1.25.1)\n",
      "Requirement already satisfied: charset-normalizer<4,>=2 in c:\\programdata\\anaconda3\\lib\\site-packages (from requests>=2.19.0->pandas-datareader) (2.0.4)\n",
      "Requirement already satisfied: idna<4,>=2.5 in c:\\programdata\\anaconda3\\lib\\site-packages (from requests>=2.19.0->pandas-datareader) (3.2)\n",
      "Requirement already satisfied: urllib3<1.27,>=1.21.1 in c:\\programdata\\anaconda3\\lib\\site-packages (from requests>=2.19.0->pandas-datareader) (1.26.7)\n",
      "Requirement already satisfied: certifi>=2017.4.17 in c:\\programdata\\anaconda3\\lib\\site-packages (from requests>=2.19.0->pandas-datareader) (2021.10.8)\n",
      "Requirement already satisfied: six>=1.5 in c:\\programdata\\anaconda3\\lib\\site-packages (from python-dateutil>=2.8.1->pandas>=0.23->pandas-datareader) (1.16.0)\n",
      "Installing collected packages: pandas-datareader\n",
      "Successfully installed pandas-datareader-0.10.0\n"
     ]
    },
    {
     "name": "stderr",
     "output_type": "stream",
     "text": [
      "\n",
      "WARNING: Ignoring invalid distribution -ensorboard (c:\\programdata\\anaconda3\\lib\\site-packages)\n",
      "WARNING: Ignoring invalid distribution -ip (c:\\programdata\\anaconda3\\lib\\site-packages)\n",
      "WARNING: Ignoring invalid distribution -tml5lib (c:\\programdata\\anaconda3\\lib\\site-packages)\n",
      "WARNING: Ignoring invalid distribution -umpy (c:\\programdata\\anaconda3\\lib\\site-packages)\n",
      "WARNING: Ignoring invalid distribution - (c:\\programdata\\anaconda3\\lib\\site-packages)\n",
      "WARNING: Ignoring invalid distribution -ensorboard (c:\\programdata\\anaconda3\\lib\\site-packages)\n",
      "WARNING: Ignoring invalid distribution -ip (c:\\programdata\\anaconda3\\lib\\site-packages)\n",
      "WARNING: Ignoring invalid distribution -tml5lib (c:\\programdata\\anaconda3\\lib\\site-packages)\n",
      "WARNING: Ignoring invalid distribution -umpy (c:\\programdata\\anaconda3\\lib\\site-packages)\n",
      "DEPRECATION: pyodbc 4.0.0-unsupported has a non-standard version number. pip 23.3 will enforce this behaviour change. A possible replacement is to upgrade to a newer version of pyodbc or contact the author to suggest that they release a version with a conforming version number. Discussion can be found at https://github.com/pypa/pip/issues/12063\n"
     ]
    }
   ],
   "source": [
    "!pip install pandas-datareader"
   ]
  },
  {
   "cell_type": "code",
   "execution_count": 14,
   "id": "aa7fd4e3",
   "metadata": {},
   "outputs": [],
   "source": [
    "import pandas as pd\n",
    "import numpy as np\n",
    "import pandas_datareader.data as web"
   ]
  },
  {
   "cell_type": "code",
   "execution_count": 15,
   "id": "05beb4a9",
   "metadata": {},
   "outputs": [
    {
     "name": "stdout",
     "output_type": "stream",
     "text": [
      "表5.1：景気循環期（内閣府）\n"
     ]
    },
    {
     "data": {
      "text/html": [
       "<div>\n",
       "<style scoped>\n",
       "    .dataframe tbody tr th:only-of-type {\n",
       "        vertical-align: middle;\n",
       "    }\n",
       "\n",
       "    .dataframe tbody tr th {\n",
       "        vertical-align: top;\n",
       "    }\n",
       "\n",
       "    .dataframe thead th {\n",
       "        text-align: right;\n",
       "    }\n",
       "</style>\n",
       "<table border=\"1\" class=\"dataframe\">\n",
       "  <thead>\n",
       "    <tr style=\"text-align: right;\">\n",
       "      <th></th>\n",
       "      <th>循環期</th>\n",
       "      <th>始点</th>\n",
       "      <th>終点</th>\n",
       "    </tr>\n",
       "  </thead>\n",
       "  <tbody>\n",
       "    <tr>\n",
       "      <th>戦後復興期</th>\n",
       "      <td>1,2</td>\n",
       "      <td>1949/05/16</td>\n",
       "      <td>1954/11/30</td>\n",
       "    </tr>\n",
       "    <tr>\n",
       "      <th>高度経済成長期</th>\n",
       "      <td>3,4,5,6</td>\n",
       "      <td>1954/12/01</td>\n",
       "      <td>1972/12/31</td>\n",
       "    </tr>\n",
       "    <tr>\n",
       "      <th>安定成長期</th>\n",
       "      <td>7,8,9,10</td>\n",
       "      <td>1972/01/01</td>\n",
       "      <td>1986/11/30</td>\n",
       "    </tr>\n",
       "    <tr>\n",
       "      <th>バブル期</th>\n",
       "      <td>11</td>\n",
       "      <td>1986/12/01</td>\n",
       "      <td>1993/10/31</td>\n",
       "    </tr>\n",
       "    <tr>\n",
       "      <th>調整期</th>\n",
       "      <td>12-15</td>\n",
       "      <td>1993/11/01</td>\n",
       "      <td>2012/10/31</td>\n",
       "    </tr>\n",
       "    <tr>\n",
       "      <th>アベノミクス</th>\n",
       "      <td>16</td>\n",
       "      <td>2012/11/01</td>\n",
       "      <td>2022/12/31</td>\n",
       "    </tr>\n",
       "  </tbody>\n",
       "</table>\n",
       "</div>"
      ],
      "text/plain": [
       "              循環期          始点          終点\n",
       "戦後復興期         1,2  1949/05/16  1954/11/30\n",
       "高度経済成長期   3,4,5,6  1954/12/01  1972/12/31\n",
       "安定成長期    7,8,9,10  1972/01/01  1986/11/30\n",
       "バブル期           11  1986/12/01  1993/10/31\n",
       "調整期         12-15  1993/11/01  2012/10/31\n",
       "アベノミクス         16  2012/11/01  2022/12/31"
      ]
     },
     "metadata": {},
     "output_type": "display_data"
    }
   ],
   "source": [
    "states=[\"戦後復興期\",\"高度経済成長期\",\"安定成長期\",\"バブル期\",\"調整期\",\"アベノミクス\"]\n",
    "starts=[\"1949/05/16\",\"1954/12/01\",\"1972/01/01\",\"1986/12/01\",\"1993/11/01\",\"2012/11/01\"]\n",
    "ends=[\"1954/11/30\",\"1972/12/31\",\"1986/11/30\",\"1993/10/31\",\"2012/10/31\",\"2022/12/31\"]\n",
    "cycles=[\"1,2\",\"3,4,5,6\",\"7,8,9,10\",\"11\",\"12-15\",\"16\"]\n",
    "factors=[\"循環期\",\"始点\",\"終点\"]\n",
    "economies=pd.DataFrame(np.array([cycles,starts,ends]).T,index=states,columns=factors)\n",
    "print(\"表5.1：景気循環期（内閣府）\")\n",
    "display(economies)"
   ]
  },
  {
   "cell_type": "markdown",
   "id": "79446f24",
   "metadata": {},
   "source": [
    "## 5.2.1 景気循環期の日経平均株価の年間変化率"
   ]
  },
  {
   "cell_type": "code",
   "execution_count": 18,
   "id": "57a920d3",
   "metadata": {},
   "outputs": [
    {
     "data": {
      "text/plain": [
       "DATE\n",
       "1949-05-16      176.21\n",
       "1949-05-17      174.80\n",
       "1949-05-18      172.53\n",
       "1949-05-19      171.34\n",
       "1949-05-20      169.20\n",
       "                ...   \n",
       "2022-12-26    26405.87\n",
       "2022-12-27    26447.87\n",
       "2022-12-28    26340.50\n",
       "2022-12-29    26093.67\n",
       "2022-12-30    26094.50\n",
       "Name: NIKKEI225, Length: 19210, dtype: float64"
      ]
     },
     "metadata": {},
     "output_type": "display_data"
    },
    {
     "name": "stdout",
     "output_type": "stream",
     "text": [
      "表5.2：景気循環期（内閣府）＋日経平均株価\n"
     ]
    },
    {
     "data": {
      "text/html": [
       "<div>\n",
       "<style scoped>\n",
       "    .dataframe tbody tr th:only-of-type {\n",
       "        vertical-align: middle;\n",
       "    }\n",
       "\n",
       "    .dataframe tbody tr th {\n",
       "        vertical-align: top;\n",
       "    }\n",
       "\n",
       "    .dataframe thead th {\n",
       "        text-align: right;\n",
       "    }\n",
       "</style>\n",
       "<table border=\"1\" class=\"dataframe\">\n",
       "  <thead>\n",
       "    <tr style=\"text-align: right;\">\n",
       "      <th></th>\n",
       "      <th>循環期</th>\n",
       "      <th>始点</th>\n",
       "      <th>終点</th>\n",
       "      <th>N225年変化率％</th>\n",
       "    </tr>\n",
       "  </thead>\n",
       "  <tbody>\n",
       "    <tr>\n",
       "      <th>戦後復興期</th>\n",
       "      <td>1,2</td>\n",
       "      <td>1949/05/16</td>\n",
       "      <td>1954/11/30</td>\n",
       "      <td>13.54</td>\n",
       "    </tr>\n",
       "    <tr>\n",
       "      <th>高度経済成長期</th>\n",
       "      <td>3,4,5,6</td>\n",
       "      <td>1954/12/01</td>\n",
       "      <td>1972/12/31</td>\n",
       "      <td>16.28</td>\n",
       "    </tr>\n",
       "    <tr>\n",
       "      <th>安定成長期</th>\n",
       "      <td>7,8,9,10</td>\n",
       "      <td>1972/01/01</td>\n",
       "      <td>1986/11/30</td>\n",
       "      <td>13.27</td>\n",
       "    </tr>\n",
       "    <tr>\n",
       "      <th>バブル期</th>\n",
       "      <td>11</td>\n",
       "      <td>1986/12/01</td>\n",
       "      <td>1993/10/31</td>\n",
       "      <td>3.41</td>\n",
       "    </tr>\n",
       "    <tr>\n",
       "      <th>調整期</th>\n",
       "      <td>12-15</td>\n",
       "      <td>1993/11/01</td>\n",
       "      <td>2012/10/31</td>\n",
       "      <td>-1.13</td>\n",
       "    </tr>\n",
       "    <tr>\n",
       "      <th>アベノミクス</th>\n",
       "      <td>16</td>\n",
       "      <td>2012/11/01</td>\n",
       "      <td>2022/12/31</td>\n",
       "      <td>12.38</td>\n",
       "    </tr>\n",
       "  </tbody>\n",
       "</table>\n",
       "</div>"
      ],
      "text/plain": [
       "              循環期          始点          終点  N225年変化率％\n",
       "戦後復興期         1,2  1949/05/16  1954/11/30      13.54\n",
       "高度経済成長期   3,4,5,6  1954/12/01  1972/12/31      16.28\n",
       "安定成長期    7,8,9,10  1972/01/01  1986/11/30      13.27\n",
       "バブル期           11  1986/12/01  1993/10/31       3.41\n",
       "調整期         12-15  1993/11/01  2012/10/31      -1.13\n",
       "アベノミクス         16  2012/11/01  2022/12/31      12.38"
      ]
     },
     "metadata": {},
     "output_type": "display_data"
    }
   ],
   "source": [
    "n225=web.DataReader(\"NIKKEI225\",\"fred\",\"1949/05/16\",\"2022/12/31\").NIKKEI225\n",
    "display(n225)\n",
    "ave=[((n225[starts[i]:ends[i]].pct_change().mean()+1)**240-1)*100 for i in range(len(ends))]\n",
    "economies[\"N225年変化率％\"]=np.round(ave,2)\n",
    "print(\"表5.2：景気循環期（内閣府）＋日経平均株価\")\n",
    "display(economies)"
   ]
  },
  {
   "cell_type": "code",
   "execution_count": null,
   "id": "66de5bf1",
   "metadata": {},
   "outputs": [],
   "source": []
  }
 ],
 "metadata": {
  "kernelspec": {
   "display_name": "Python 3 (ipykernel)",
   "language": "python",
   "name": "python3"
  },
  "language_info": {
   "codemirror_mode": {
    "name": "ipython",
    "version": 3
   },
   "file_extension": ".py",
   "mimetype": "text/x-python",
   "name": "python",
   "nbconvert_exporter": "python",
   "pygments_lexer": "ipython3",
   "version": "3.9.7"
  }
 },
 "nbformat": 4,
 "nbformat_minor": 5
}
