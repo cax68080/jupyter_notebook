{
 "cells": [
  {
   "cell_type": "code",
   "execution_count": 1,
   "id": "10d92806",
   "metadata": {},
   "outputs": [],
   "source": [
    "from matplotlib  import pyplot as plt\n",
    "from collections import Counter\n",
    "import math"
   ]
  },
  {
   "cell_type": "code",
   "execution_count": 16,
   "id": "efe2dc43",
   "metadata": {},
   "outputs": [],
   "source": [
    "num_friends = [10,20,30,40,50,60,70,80,90,100,1000]\n",
    "daily_minutes = [3,5,9,1,3,4,7,2,1,0,1]"
   ]
  },
  {
   "cell_type": "code",
   "execution_count": 14,
   "id": "9eae5541",
   "metadata": {},
   "outputs": [],
   "source": [
    "def de_mean(x):\n",
    "    x_bar = mean(x)\n",
    "    return [x_i - x_bar for x_i in x]\n",
    "def dot(v,w):\n",
    "    return sum(v_i * w_i for v_i,w_i in zip(v,w))\n",
    "def mean(x):\n",
    "    return sum(x) / len(x)\n",
    "def standard_deviation(x):\n",
    "    return math.sqrt(variance(x))\n",
    "def sum_of_squares(v):\n",
    "    return dot(v,v)\n",
    "def variance(x):\n",
    "    n = len(x)\n",
    "    deviations = de_mean(x)\n",
    "    return sum_of_squares(deviations) / (n - 1)"
   ]
  },
  {
   "cell_type": "code",
   "execution_count": 12,
   "id": "2b80aded",
   "metadata": {},
   "outputs": [
    {
     "data": {
      "text/plain": [
       "-39.44444444444444"
      ]
     },
     "execution_count": 12,
     "metadata": {},
     "output_type": "execute_result"
    }
   ],
   "source": [
    "#共分散\n",
    "def covariance(x,y):\n",
    "    n = len(x)\n",
    "    return dot(de_mean(x),de_mean(y)) / (n - 1)\n",
    "covariance(num_friends,daily_minutes)"
   ]
  },
  {
   "cell_type": "code",
   "execution_count": 17,
   "id": "e67cb44d",
   "metadata": {},
   "outputs": [
    {
     "data": {
      "text/plain": [
       "-0.31255729837706486"
      ]
     },
     "execution_count": 17,
     "metadata": {},
     "output_type": "execute_result"
    }
   ],
   "source": [
    "#相関係数\n",
    "def correlation(x,y):\n",
    "    stdev_x = standard_deviation(x)\n",
    "    stdev_y = standard_deviation(y)\n",
    "    if stdev_x > 0 and stdev_y > 0:\n",
    "        return covariance(x,y) / stdev_x / stdev_y\n",
    "    else:\n",
    "        return 0\n",
    "correlation(num_friends,daily_minutes)"
   ]
  },
  {
   "cell_type": "code",
   "execution_count": 20,
   "id": "c2afff87",
   "metadata": {},
   "outputs": [
    {
     "data": {
      "text/plain": [
       "-0.4590208105230175"
      ]
     },
     "execution_count": 20,
     "metadata": {},
     "output_type": "execute_result"
    }
   ],
   "source": [
    "#外れ値を除外する\n",
    "outliner = num_friends.index(1000)\n",
    "num_friends_good = [x for i,x in enumerate(num_friends) if i != outliner]\n",
    "daily_friends_good = [x for i,x in enumerate(daily_minutes) if i != outliner]\n",
    "correlation(num_friends_good,daily_friends_good)"
   ]
  },
  {
   "cell_type": "code",
   "execution_count": null,
   "id": "ef89c0c7",
   "metadata": {},
   "outputs": [],
   "source": []
  }
 ],
 "metadata": {
  "kernelspec": {
   "display_name": "Python 3 (ipykernel)",
   "language": "python",
   "name": "python3"
  },
  "language_info": {
   "codemirror_mode": {
    "name": "ipython",
    "version": 3
   },
   "file_extension": ".py",
   "mimetype": "text/x-python",
   "name": "python",
   "nbconvert_exporter": "python",
   "pygments_lexer": "ipython3",
   "version": "3.9.7"
  }
 },
 "nbformat": 4,
 "nbformat_minor": 5
}
