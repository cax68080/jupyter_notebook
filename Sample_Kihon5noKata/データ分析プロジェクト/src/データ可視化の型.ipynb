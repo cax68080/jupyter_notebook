{
 "cells": [
  {
   "cell_type": "code",
   "execution_count": 7,
   "metadata": {
    "collapsed": true,
    "id": "ERQsTzaLpmvs"
   },
   "outputs": [
    {
     "name": "stdout",
     "output_type": "stream",
     "text": [
      "Requirement already satisfied: japanize_matplotlib in c:\\programdata\\anaconda3\\lib\\site-packages (1.1.3)\n",
      "Requirement already satisfied: matplotlib in c:\\programdata\\anaconda3\\lib\\site-packages (from japanize_matplotlib) (3.5.2)\n",
      "Requirement already satisfied: cycler>=0.10 in c:\\programdata\\anaconda3\\lib\\site-packages (from matplotlib->japanize_matplotlib) (0.10.0)\n",
      "Requirement already satisfied: fonttools>=4.22.0 in c:\\programdata\\anaconda3\\lib\\site-packages (from matplotlib->japanize_matplotlib) (4.25.0)\n",
      "Requirement already satisfied: kiwisolver>=1.0.1 in c:\\programdata\\anaconda3\\lib\\site-packages (from matplotlib->japanize_matplotlib) (1.3.1)\n",
      "Requirement already satisfied: numpy>=1.17 in c:\\programdata\\anaconda3\\lib\\site-packages (from matplotlib->japanize_matplotlib) (1.25.1)\n",
      "Requirement already satisfied: packaging>=20.0 in c:\\programdata\\anaconda3\\lib\\site-packages (from matplotlib->japanize_matplotlib) (23.0)\n",
      "Requirement already satisfied: pillow>=6.2.0 in c:\\programdata\\anaconda3\\lib\\site-packages (from matplotlib->japanize_matplotlib) (8.4.0)\n",
      "Requirement already satisfied: pyparsing>=2.2.1 in c:\\programdata\\anaconda3\\lib\\site-packages (from matplotlib->japanize_matplotlib) (3.0.4)\n",
      "Requirement already satisfied: python-dateutil>=2.7 in c:\\programdata\\anaconda3\\lib\\site-packages (from matplotlib->japanize_matplotlib) (2.8.2)\n",
      "Requirement already satisfied: six in c:\\programdata\\anaconda3\\lib\\site-packages (from cycler>=0.10->matplotlib->japanize_matplotlib) (1.16.0)\n"
     ]
    },
    {
     "name": "stderr",
     "output_type": "stream",
     "text": [
      "WARNING: Ignoring invalid distribution - (c:\\programdata\\anaconda3\\lib\\site-packages)\n",
      "WARNING: Ignoring invalid distribution -ensorboard (c:\\programdata\\anaconda3\\lib\\site-packages)\n",
      "WARNING: Ignoring invalid distribution -ip (c:\\programdata\\anaconda3\\lib\\site-packages)\n",
      "WARNING: Ignoring invalid distribution -tml5lib (c:\\programdata\\anaconda3\\lib\\site-packages)\n",
      "WARNING: Ignoring invalid distribution - (c:\\programdata\\anaconda3\\lib\\site-packages)\n",
      "WARNING: Ignoring invalid distribution -ensorboard (c:\\programdata\\anaconda3\\lib\\site-packages)\n",
      "WARNING: Ignoring invalid distribution -ip (c:\\programdata\\anaconda3\\lib\\site-packages)\n",
      "WARNING: Ignoring invalid distribution -tml5lib (c:\\programdata\\anaconda3\\lib\\site-packages)\n",
      "DEPRECATION: pyodbc 4.0.0-unsupported has a non-standard version number. pip 23.3 will enforce this behaviour change. A possible replacement is to upgrade to a newer version of pyodbc or contact the author to suggest that they release a version with a conforming version number. Discussion can be found at https://github.com/pypa/pip/issues/12063\n"
     ]
    },
    {
     "name": "stdout",
     "output_type": "stream",
     "text": [
      "pip 23.2.1 from C:\\ProgramData\\Anaconda3\\lib\\site-packages\\pip (python 3.9)\n",
      "\n"
     ]
    }
   ],
   "source": [
    "#!pip install japanize_matplotlib\n",
    "#!pip -V"
   ]
  },
  {
   "cell_type": "code",
   "execution_count": 8,
   "metadata": {
    "id": "ymZCLsC8pJCo"
   },
   "outputs": [],
   "source": [
    "import pandas as pd\n",
    "import japanize_matplotlib\n",
    "import matplotlib.pyplot as plt"
   ]
  },
  {
   "cell_type": "code",
   "execution_count": 9,
   "metadata": {
    "id": "70p9ktMkpn_d"
   },
   "outputs": [],
   "source": [
    "data_dir = \"..\\data\"\n",
    "input_dir = f\"{data_dir}\\input\"\n",
    "output_dir = f\"{data_dir}\\output\"\n",
    "input_file = f\"{output_dir}\\order_processed.csv\""
   ]
  },
  {
   "cell_type": "code",
   "execution_count": 11,
   "metadata": {
    "id": "ZB2plGErpXK0"
   },
   "outputs": [
    {
     "data": {
      "text/html": [
       "<div>\n",
       "<style scoped>\n",
       "    .dataframe tbody tr th:only-of-type {\n",
       "        vertical-align: middle;\n",
       "    }\n",
       "\n",
       "    .dataframe tbody tr th {\n",
       "        vertical-align: top;\n",
       "    }\n",
       "\n",
       "    .dataframe thead th {\n",
       "        text-align: right;\n",
       "    }\n",
       "</style>\n",
       "<table border=\"1\" class=\"dataframe\">\n",
       "  <thead>\n",
       "    <tr style=\"text-align: right;\">\n",
       "      <th></th>\n",
       "      <th>オーダーID</th>\n",
       "      <th>オーダー日</th>\n",
       "      <th>顧客ID</th>\n",
       "      <th>商品ID</th>\n",
       "      <th>数量</th>\n",
       "      <th>売上</th>\n",
       "      <th>出荷日</th>\n",
       "      <th>キャンセル日</th>\n",
       "      <th>ステータス</th>\n",
       "      <th>氏名</th>\n",
       "      <th>ひらがな</th>\n",
       "      <th>生年月日</th>\n",
       "      <th>性別</th>\n",
       "      <th>都道府県</th>\n",
       "      <th>商品名</th>\n",
       "      <th>カテゴリ</th>\n",
       "      <th>サブカテゴリ</th>\n",
       "      <th>色</th>\n",
       "      <th>サイズ</th>\n",
       "      <th>定価</th>\n",
       "    </tr>\n",
       "  </thead>\n",
       "  <tbody>\n",
       "    <tr>\n",
       "      <th>0</th>\n",
       "      <td>201901010005-1</td>\n",
       "      <td>2019-01-01</td>\n",
       "      <td>C00002159</td>\n",
       "      <td>TB-BUNN</td>\n",
       "      <td>1</td>\n",
       "      <td>9800</td>\n",
       "      <td>2019-01-01</td>\n",
       "      <td>NaN</td>\n",
       "      <td>配達済み</td>\n",
       "      <td>竹田 朋実</td>\n",
       "      <td>たけだ ともみ</td>\n",
       "      <td>1995-07-01</td>\n",
       "      <td>女</td>\n",
       "      <td>東京都</td>\n",
       "      <td>トートバッグ B</td>\n",
       "      <td>バッグ</td>\n",
       "      <td>Unisex</td>\n",
       "      <td>NaN</td>\n",
       "      <td>NaN</td>\n",
       "      <td>9800</td>\n",
       "    </tr>\n",
       "    <tr>\n",
       "      <th>1</th>\n",
       "      <td>201901010001-1</td>\n",
       "      <td>2019-01-01</td>\n",
       "      <td>C00000112</td>\n",
       "      <td>TO-AUNN</td>\n",
       "      <td>1</td>\n",
       "      <td>2280</td>\n",
       "      <td>2019-01-04</td>\n",
       "      <td>NaN</td>\n",
       "      <td>配達済み</td>\n",
       "      <td>小川 幸枝</td>\n",
       "      <td>おがわ ゆきえ</td>\n",
       "      <td>1991-06-13</td>\n",
       "      <td>女</td>\n",
       "      <td>神奈川県</td>\n",
       "      <td>タオル A</td>\n",
       "      <td>小物</td>\n",
       "      <td>Unisex</td>\n",
       "      <td>NaN</td>\n",
       "      <td>NaN</td>\n",
       "      <td>2280</td>\n",
       "    </tr>\n",
       "    <tr>\n",
       "      <th>2</th>\n",
       "      <td>201901010005-2</td>\n",
       "      <td>2019-01-01</td>\n",
       "      <td>C00002159</td>\n",
       "      <td>PA-BMBS</td>\n",
       "      <td>1</td>\n",
       "      <td>20000</td>\n",
       "      <td>2019-01-02</td>\n",
       "      <td>NaN</td>\n",
       "      <td>配達済み</td>\n",
       "      <td>竹田 朋実</td>\n",
       "      <td>たけだ ともみ</td>\n",
       "      <td>1995-07-01</td>\n",
       "      <td>女</td>\n",
       "      <td>東京都</td>\n",
       "      <td>Men Black パンツ B S</td>\n",
       "      <td>ボトムス</td>\n",
       "      <td>Men</td>\n",
       "      <td>Black</td>\n",
       "      <td>S</td>\n",
       "      <td>20000</td>\n",
       "    </tr>\n",
       "    <tr>\n",
       "      <th>3</th>\n",
       "      <td>201901010004-1</td>\n",
       "      <td>2019-01-01</td>\n",
       "      <td>C00001710</td>\n",
       "      <td>BP-BUNN</td>\n",
       "      <td>1</td>\n",
       "      <td>9800</td>\n",
       "      <td>2019-01-01</td>\n",
       "      <td>NaN</td>\n",
       "      <td>配達済み</td>\n",
       "      <td>植田 陽一</td>\n",
       "      <td>うえだ よういち</td>\n",
       "      <td>1995-06-23</td>\n",
       "      <td>男</td>\n",
       "      <td>東京都</td>\n",
       "      <td>バックパック B</td>\n",
       "      <td>バッグ</td>\n",
       "      <td>Unisex</td>\n",
       "      <td>NaN</td>\n",
       "      <td>NaN</td>\n",
       "      <td>9800</td>\n",
       "    </tr>\n",
       "    <tr>\n",
       "      <th>4</th>\n",
       "      <td>201901020019-2</td>\n",
       "      <td>2019-01-02</td>\n",
       "      <td>C00001925</td>\n",
       "      <td>PA-AMBL</td>\n",
       "      <td>1</td>\n",
       "      <td>16500</td>\n",
       "      <td>2019-01-07</td>\n",
       "      <td>NaN</td>\n",
       "      <td>配達済み</td>\n",
       "      <td>原田 由香</td>\n",
       "      <td>はらだ ゆか</td>\n",
       "      <td>1975-10-12</td>\n",
       "      <td>女</td>\n",
       "      <td>大阪府</td>\n",
       "      <td>Men Black パンツ A L</td>\n",
       "      <td>ボトムス</td>\n",
       "      <td>Men</td>\n",
       "      <td>Black</td>\n",
       "      <td>L</td>\n",
       "      <td>16500</td>\n",
       "    </tr>\n",
       "  </tbody>\n",
       "</table>\n",
       "</div>"
      ],
      "text/plain": [
       "           オーダーID       オーダー日       顧客ID     商品ID  数量     売上         出荷日  \\\n",
       "0  201901010005-1  2019-01-01  C00002159  TB-BUNN   1   9800  2019-01-01   \n",
       "1  201901010001-1  2019-01-01  C00000112  TO-AUNN   1   2280  2019-01-04   \n",
       "2  201901010005-2  2019-01-01  C00002159  PA-BMBS   1  20000  2019-01-02   \n",
       "3  201901010004-1  2019-01-01  C00001710  BP-BUNN   1   9800  2019-01-01   \n",
       "4  201901020019-2  2019-01-02  C00001925  PA-AMBL   1  16500  2019-01-07   \n",
       "\n",
       "  キャンセル日 ステータス     氏名      ひらがな        生年月日 性別  都道府県                商品名  カテゴリ  \\\n",
       "0    NaN  配達済み  竹田 朋実   たけだ ともみ  1995-07-01  女   東京都           トートバッグ B   バッグ   \n",
       "1    NaN  配達済み  小川 幸枝   おがわ ゆきえ  1991-06-13  女  神奈川県              タオル A    小物   \n",
       "2    NaN  配達済み  竹田 朋実   たけだ ともみ  1995-07-01  女   東京都  Men Black パンツ B S  ボトムス   \n",
       "3    NaN  配達済み  植田 陽一  うえだ よういち  1995-06-23  男   東京都           バックパック B   バッグ   \n",
       "4    NaN  配達済み  原田 由香    はらだ ゆか  1975-10-12  女   大阪府  Men Black パンツ A L  ボトムス   \n",
       "\n",
       "   サブカテゴリ      色  サイズ     定価  \n",
       "0  Unisex    NaN  NaN   9800  \n",
       "1  Unisex    NaN  NaN   2280  \n",
       "2     Men  Black    S  20000  \n",
       "3  Unisex    NaN  NaN   9800  \n",
       "4     Men  Black    L  16500  "
      ]
     },
     "metadata": {},
     "output_type": "display_data"
    }
   ],
   "source": [
    "df = pd.read_csv(input_file)\n",
    "display(df.head())"
   ]
  },
  {
   "cell_type": "code",
   "execution_count": 12,
   "metadata": {
    "id": "vVfzOvn6pJIC"
   },
   "outputs": [
    {
     "data": {
      "text/html": [
       "<div>\n",
       "<style scoped>\n",
       "    .dataframe tbody tr th:only-of-type {\n",
       "        vertical-align: middle;\n",
       "    }\n",
       "\n",
       "    .dataframe tbody tr th {\n",
       "        vertical-align: top;\n",
       "    }\n",
       "\n",
       "    .dataframe thead th {\n",
       "        text-align: right;\n",
       "    }\n",
       "</style>\n",
       "<table border=\"1\" class=\"dataframe\">\n",
       "  <thead>\n",
       "    <tr style=\"text-align: right;\">\n",
       "      <th></th>\n",
       "      <th>数量</th>\n",
       "      <th>売上</th>\n",
       "      <th>定価</th>\n",
       "    </tr>\n",
       "  </thead>\n",
       "  <tbody>\n",
       "    <tr>\n",
       "      <th>count</th>\n",
       "      <td>13670.000000</td>\n",
       "      <td>13670.000000</td>\n",
       "      <td>13670.000000</td>\n",
       "    </tr>\n",
       "    <tr>\n",
       "      <th>mean</th>\n",
       "      <td>1.283175</td>\n",
       "      <td>16747.298464</td>\n",
       "      <td>13083.970739</td>\n",
       "    </tr>\n",
       "    <tr>\n",
       "      <th>std</th>\n",
       "      <td>0.679370</td>\n",
       "      <td>13668.663074</td>\n",
       "      <td>7340.663527</td>\n",
       "    </tr>\n",
       "    <tr>\n",
       "      <th>min</th>\n",
       "      <td>1.000000</td>\n",
       "      <td>980.000000</td>\n",
       "      <td>980.000000</td>\n",
       "    </tr>\n",
       "    <tr>\n",
       "      <th>25%</th>\n",
       "      <td>1.000000</td>\n",
       "      <td>7900.000000</td>\n",
       "      <td>7600.000000</td>\n",
       "    </tr>\n",
       "    <tr>\n",
       "      <th>50%</th>\n",
       "      <td>1.000000</td>\n",
       "      <td>14500.000000</td>\n",
       "      <td>14300.000000</td>\n",
       "    </tr>\n",
       "    <tr>\n",
       "      <th>75%</th>\n",
       "      <td>1.000000</td>\n",
       "      <td>19800.000000</td>\n",
       "      <td>18100.000000</td>\n",
       "    </tr>\n",
       "    <tr>\n",
       "      <th>max</th>\n",
       "      <td>4.000000</td>\n",
       "      <td>164800.000000</td>\n",
       "      <td>41200.000000</td>\n",
       "    </tr>\n",
       "  </tbody>\n",
       "</table>\n",
       "</div>"
      ],
      "text/plain": [
       "                 数量             売上            定価\n",
       "count  13670.000000   13670.000000  13670.000000\n",
       "mean       1.283175   16747.298464  13083.970739\n",
       "std        0.679370   13668.663074   7340.663527\n",
       "min        1.000000     980.000000    980.000000\n",
       "25%        1.000000    7900.000000   7600.000000\n",
       "50%        1.000000   14500.000000  14300.000000\n",
       "75%        1.000000   19800.000000  18100.000000\n",
       "max        4.000000  164800.000000  41200.000000"
      ]
     },
     "metadata": {},
     "output_type": "display_data"
    }
   ],
   "source": [
    "display(df.describe())"
   ]
  },
  {
   "cell_type": "code",
   "execution_count": 13,
   "metadata": {
    "id": "yrGLJBadpJNr"
   },
   "outputs": [
    {
     "data": {
      "text/plain": [
       "(array([8.551e+03, 3.830e+03, 8.430e+02, 2.840e+02, 1.230e+02, 1.900e+01,\n",
       "        1.000e+00, 1.400e+01, 0.000e+00, 5.000e+00]),\n",
       " array([   980.,  17362.,  33744.,  50126.,  66508.,  82890.,  99272.,\n",
       "        115654., 132036., 148418., 164800.]),\n",
       " <BarContainer object of 10 artists>)"
      ]
     },
     "execution_count": 13,
     "metadata": {},
     "output_type": "execute_result"
    },
    {
     "data": {
      "image/png": "[encoded data removed]",
      "text/plain": [
       "<Figure size 432x288 with 1 Axes>"
      ]
     },
     "metadata": {
      "needs_background": "light"
     },
     "output_type": "display_data"
    }
   ],
   "source": [
    "plt.hist(df[\"売上\"])"
   ]
  },
  {
   "cell_type": "code",
   "execution_count": 14,
   "metadata": {
    "id": "mLIjZb5FpJTO"
   },
   "outputs": [
    {
     "data": {
      "text/plain": [
       "(array([11196.,     0.,     0.,  1447.,     0.,     0.,   657.,     0.,\n",
       "            0.,   370.]),\n",
       " array([1. , 1.3, 1.6, 1.9, 2.2, 2.5, 2.8, 3.1, 3.4, 3.7, 4. ]),\n",
       " <BarContainer object of 10 artists>)"
      ]
     },
     "execution_count": 14,
     "metadata": {},
     "output_type": "execute_result"
    },
    {
     "data": {
      "image/png": "[encoded data removed]",
      "text/plain": [
       "<Figure size 432x288 with 1 Axes>"
      ]
     },
     "metadata": {
      "needs_background": "light"
     },
     "output_type": "display_data"
    }
   ],
   "source": [
    "plt.hist(df[\"数量\"])"
   ]
  },
  {
   "cell_type": "markdown",
   "metadata": {
    "id": "W8QCxakjpJYu"
   },
   "source": [
    "## 様々な切り口でデータを可視化する"
   ]
  },
  {
   "cell_type": "code",
   "execution_count": 21,
   "metadata": {
    "id": "RoO_Oo2bpJeL"
   },
   "outputs": [
    {
     "data": {
      "text/html": [
       "<div>\n",
       "<style scoped>\n",
       "    .dataframe tbody tr th:only-of-type {\n",
       "        vertical-align: middle;\n",
       "    }\n",
       "\n",
       "    .dataframe tbody tr th {\n",
       "        vertical-align: top;\n",
       "    }\n",
       "\n",
       "    .dataframe thead th {\n",
       "        text-align: right;\n",
       "    }\n",
       "</style>\n",
       "<table border=\"1\" class=\"dataframe\">\n",
       "  <thead>\n",
       "    <tr style=\"text-align: right;\">\n",
       "      <th></th>\n",
       "      <th>カテゴリ</th>\n",
       "      <th>売上</th>\n",
       "    </tr>\n",
       "  </thead>\n",
       "  <tbody>\n",
       "    <tr>\n",
       "      <th>0</th>\n",
       "      <td>アウター</td>\n",
       "      <td>1318</td>\n",
       "    </tr>\n",
       "    <tr>\n",
       "      <th>1</th>\n",
       "      <td>トップス</td>\n",
       "      <td>4159</td>\n",
       "    </tr>\n",
       "    <tr>\n",
       "      <th>2</th>\n",
       "      <td>バッグ</td>\n",
       "      <td>2050</td>\n",
       "    </tr>\n",
       "    <tr>\n",
       "      <th>3</th>\n",
       "      <td>ボトムス</td>\n",
       "      <td>4029</td>\n",
       "    </tr>\n",
       "    <tr>\n",
       "      <th>4</th>\n",
       "      <td>小物</td>\n",
       "      <td>2114</td>\n",
       "    </tr>\n",
       "  </tbody>\n",
       "</table>\n",
       "</div>"
      ],
      "text/plain": [
       "   カテゴリ    売上\n",
       "0  アウター  1318\n",
       "1  トップス  4159\n",
       "2   バッグ  2050\n",
       "3  ボトムス  4029\n",
       "4    小物  2114"
      ]
     },
     "metadata": {},
     "output_type": "display_data"
    },
    {
     "data": {
      "text/plain": [
       "<BarContainer object of 5 artists>"
      ]
     },
     "execution_count": 21,
     "metadata": {},
     "output_type": "execute_result"
    },
    {
     "data": {
      "image/png": "[encoded data removed]",
      "text/plain": [
       "<Figure size 432x288 with 1 Axes>"
      ]
     },
     "metadata": {
      "needs_background": "light"
     },
     "output_type": "display_data"
    }
   ],
   "source": [
    "df_viz = df[[\"カテゴリ\",\"売上\"]]\n",
    "df_viz = df_viz.groupby(\"カテゴリ\",as_index=False).count()\n",
    "display(df_viz)\n",
    "plt.bar(df_viz[\"カテゴリ\"],df_viz[\"売上\"])"
   ]
  },
  {
   "cell_type": "code",
   "execution_count": 27,
   "metadata": {
    "id": "ej0cpU_FpJjo"
   },
   "outputs": [
    {
     "data": {
      "text/html": [
       "<div>\n",
       "<style scoped>\n",
       "    .dataframe tbody tr th:only-of-type {\n",
       "        vertical-align: middle;\n",
       "    }\n",
       "\n",
       "    .dataframe tbody tr th {\n",
       "        vertical-align: top;\n",
       "    }\n",
       "\n",
       "    .dataframe thead th {\n",
       "        text-align: right;\n",
       "    }\n",
       "</style>\n",
       "<table border=\"1\" class=\"dataframe\">\n",
       "  <thead>\n",
       "    <tr style=\"text-align: right;\">\n",
       "      <th>カテゴリ</th>\n",
       "      <th>アウター</th>\n",
       "      <th>トップス</th>\n",
       "      <th>バッグ</th>\n",
       "      <th>ボトムス</th>\n",
       "      <th>小物</th>\n",
       "    </tr>\n",
       "    <tr>\n",
       "      <th>性別</th>\n",
       "      <th></th>\n",
       "      <th></th>\n",
       "      <th></th>\n",
       "      <th></th>\n",
       "      <th></th>\n",
       "    </tr>\n",
       "  </thead>\n",
       "  <tbody>\n",
       "    <tr>\n",
       "      <th>女</th>\n",
       "      <td>27870000</td>\n",
       "      <td>45509300</td>\n",
       "      <td>15707260</td>\n",
       "      <td>59704800</td>\n",
       "      <td>5303940</td>\n",
       "    </tr>\n",
       "    <tr>\n",
       "      <th>男</th>\n",
       "      <td>14351600</td>\n",
       "      <td>21436900</td>\n",
       "      <td>7542270</td>\n",
       "      <td>29122800</td>\n",
       "      <td>2386700</td>\n",
       "    </tr>\n",
       "  </tbody>\n",
       "</table>\n",
       "</div>"
      ],
      "text/plain": [
       "カテゴリ      アウター      トップス       バッグ      ボトムス       小物\n",
       "性別                                                   \n",
       "女     27870000  45509300  15707260  59704800  5303940\n",
       "男     14351600  21436900   7542270  29122800  2386700"
      ]
     },
     "metadata": {},
     "output_type": "display_data"
    },
    {
     "data": {
      "image/png": "[encoded data removed]",
      "text/plain": [
       "<Figure size 432x288 with 1 Axes>"
      ]
     },
     "metadata": {
      "needs_background": "light"
     },
     "output_type": "display_data"
    }
   ],
   "source": [
    "df_viz = df[[\"カテゴリ\",\"性別\",\"売上\"]]\n",
    "df_viz= df_viz.groupby([\"カテゴリ\",\"性別\"],as_index=False).sum()\n",
    "df_viz = df_viz.pivot(index=\"性別\",columns=\"カテゴリ\",values=\"売上\")\n",
    "display(df_viz)\n",
    "for i in range(len(df_viz)):\n",
    "    plt.bar(df_viz.columns,df_viz.iloc[i],bottom=df_viz.iloc[0:i].sum())\n",
    "plt.legend(df_viz.index)\n",
    "plt.savefig(f\"{output_dir}\\カテゴリ_性別ごとの売上.png\")"
   ]
  },
  {
   "cell_type": "code",
   "execution_count": 26,
   "metadata": {
    "id": "iBm1mxzOpJpS"
   },
   "outputs": [
    {
     "data": {
      "text/plain": [
       "<Figure size 432x288 with 0 Axes>"
      ]
     },
     "metadata": {},
     "output_type": "display_data"
    }
   ],
   "source": []
  },
  {
   "cell_type": "code",
   "execution_count": null,
   "metadata": {
    "id": "HmVMonQPpJvE"
   },
   "outputs": [],
   "source": []
  }
 ],
 "metadata": {
  "colab": {
   "provenance": []
  },
  "kernelspec": {
   "display_name": "Python 3 (ipykernel)",
   "language": "python",
   "name": "python3"
  },
  "language_info": {
   "codemirror_mode": {
    "name": "ipython",
    "version": 3
   },
   "file_extension": ".py",
   "mimetype": "text/x-python",
   "name": "python",
   "nbconvert_exporter": "python",
   "pygments_lexer": "ipython3",
   "version": "3.9.7"
  }
 },
 "nbformat": 4,
 "nbformat_minor": 1
}
