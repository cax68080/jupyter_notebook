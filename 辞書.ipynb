{
 "cells": [
  {
   "cell_type": "markdown",
   "id": "a0cf357a",
   "metadata": {},
   "source": [
    "{}による作成"
   ]
  },
  {
   "cell_type": "code",
   "execution_count": 4,
   "id": "b56630e4",
   "metadata": {},
   "outputs": [
    {
     "name": "stdout",
     "output_type": "stream",
     "text": [
      "{}\n"
     ]
    }
   ],
   "source": [
    "empty_dict = {}\n",
    "print(empty_dict)"
   ]
  },
  {
   "cell_type": "code",
   "execution_count": 2,
   "id": "f90c9469",
   "metadata": {},
   "outputs": [
    {
     "name": "stdout",
     "output_type": "stream",
     "text": [
      "{'day': 'A piriod of twenty-four hours,mostly misspent', 'positive': \"Mistaken at the top of one's voice\", 'misfortune': 'The kind of fortune that never misses'}\n"
     ]
    }
   ],
   "source": [
    "bierce = {\"day\":\"A piriod of twenty-four hours,mostly misspent\",\n",
    "         \"positive\":\"Mistaken at the top of one's voice\",\n",
    "         \"misfortune\":\"The kind of fortune that never misses\"}\n",
    "print(bierce)"
   ]
  },
  {
   "cell_type": "markdown",
   "id": "01ba3995",
   "metadata": {},
   "source": [
    "dict()を使った変換"
   ]
  },
  {
   "cell_type": "code",
   "execution_count": 2,
   "id": "7d853c93",
   "metadata": {},
   "outputs": [
    {
     "name": "stdout",
     "output_type": "stream",
     "text": [
      "{'a': 'b', 'c': 'd', 'e': 'f'}\n"
     ]
    }
   ],
   "source": [
    "lol = [['a','b'],['c','d'],['e','f']]\n",
    "dict_lol = dict(lol)\n",
    "print(dict_lol)"
   ]
  },
  {
   "cell_type": "code",
   "execution_count": 10,
   "id": "76624bf2",
   "metadata": {},
   "outputs": [
    {
     "name": "stdout",
     "output_type": "stream",
     "text": [
      "{'a': 'c', 'c': 'd', 'e': 'f'}\n"
     ]
    }
   ],
   "source": [
    "los = ('ac','cd','ef')\n",
    "dic_los = dict(los)\n",
    "print(dic_los)"
   ]
  },
  {
   "cell_type": "code",
   "execution_count": 11,
   "id": "4411f7a5",
   "metadata": {},
   "outputs": [
    {
     "name": "stdout",
     "output_type": "stream",
     "text": [
      "c\n"
     ]
    }
   ],
   "source": [
    "print(dic_los['a'])"
   ]
  },
  {
   "cell_type": "markdown",
   "id": "6d3c753d",
   "metadata": {},
   "source": [
    "[key]による要素の追加、変更"
   ]
  },
  {
   "cell_type": "code",
   "execution_count": 13,
   "id": "c6746c9a",
   "metadata": {},
   "outputs": [
    {
     "name": "stdout",
     "output_type": "stream",
     "text": [
      "{'Chapman': 'Graham', 'Cleese': 'John', 'Idle': 'Eric', 'Jones': 'Terry', 'Palin': 'Michael'}\n",
      "{'Chapman': 'Graham', 'Cleese': 'John', 'Idle': 'Eric', 'Jones': 'Terry', 'Palin': 'Michael', 'Gilliam': 'Gerry'}\n",
      "{'Chapman': 'Graham', 'Cleese': 'John', 'Idle': 'Eric', 'Jones': 'Terry', 'Palin': 'Michael', 'Gilliam': 'Terry'}\n"
     ]
    }
   ],
   "source": [
    "pythons = {'Chapman':'Graham','Cleese':'John','Idle':'Eric','Jones':'Terry','Palin':'Michael'}\n",
    "print(pythons)\n",
    "pythons['Gilliam'] = 'Gerry'\n",
    "print(pythons)\n",
    "pythons['Gilliam'] = 'Terry'\n",
    "print(pythons)"
   ]
  },
  {
   "cell_type": "markdown",
   "id": "b810cd42",
   "metadata": {},
   "source": [
    "update()による辞書の結合"
   ]
  },
  {
   "cell_type": "code",
   "execution_count": 14,
   "id": "2bc87d80",
   "metadata": {},
   "outputs": [
    {
     "name": "stdout",
     "output_type": "stream",
     "text": [
      "{'Marx': 'Groucho', 'Howard': 'Moe'}\n"
     ]
    }
   ],
   "source": [
    "others = {'Marx':'Groucho','Howard':'Moe'}\n",
    "print(others)"
   ]
  },
  {
   "cell_type": "code",
   "execution_count": 15,
   "id": "f532fbe7",
   "metadata": {},
   "outputs": [
    {
     "name": "stdout",
     "output_type": "stream",
     "text": [
      "{'Chapman': 'Graham', 'Cleese': 'John', 'Idle': 'Eric', 'Jones': 'Terry', 'Palin': 'Michael', 'Gilliam': 'Terry', 'Marx': 'Groucho', 'Howard': 'Moe'}\n",
      "{'Marx': 'Groucho', 'Howard': 'Moe'}\n"
     ]
    }
   ],
   "source": [
    "pythons.update(others)\n",
    "print(pythons)\n",
    "print(others)"
   ]
  },
  {
   "cell_type": "code",
   "execution_count": 16,
   "id": "715fbb11",
   "metadata": {},
   "outputs": [
    {
     "name": "stdout",
     "output_type": "stream",
     "text": [
      "{'a': 1, 'b': 'platypus'}\n"
     ]
    }
   ],
   "source": [
    "first = {'a':1,'b':2}\n",
    "second = {'b':'platypus'}\n",
    "first.update(second)\n",
    "print(first)"
   ]
  },
  {
   "cell_type": "markdown",
   "id": "3e7a2a17",
   "metadata": {},
   "source": [
    "delによる指定したキーを持つ要素の削除"
   ]
  },
  {
   "cell_type": "code",
   "execution_count": 18,
   "id": "031630ed",
   "metadata": {},
   "outputs": [
    {
     "name": "stdout",
     "output_type": "stream",
     "text": [
      "{'Chapman': 'Graham', 'Cleese': 'John', 'Idle': 'Eric', 'Jones': 'Terry', 'Palin': 'Michael', 'Gilliam': 'Terry', 'Marx': 'Groucho', 'Howard': 'Moe'}\n",
      "{'Chapman': 'Graham', 'Cleese': 'John', 'Idle': 'Eric', 'Jones': 'Terry', 'Palin': 'Michael', 'Gilliam': 'Terry', 'Howard': 'Moe'}\n"
     ]
    }
   ],
   "source": [
    "print(pythons)\n",
    "del pythons['Marx']\n",
    "print(pythons)"
   ]
  },
  {
   "cell_type": "markdown",
   "id": "e6a4ccdb",
   "metadata": {},
   "source": [
    "clear()によるすべての要素の削除"
   ]
  },
  {
   "cell_type": "code",
   "execution_count": 19,
   "id": "6e6e35ac",
   "metadata": {},
   "outputs": [
    {
     "name": "stdout",
     "output_type": "stream",
     "text": [
      "{'Marx': 'Groucho', 'Howard': 'Moe'}\n",
      "{}\n"
     ]
    }
   ],
   "source": [
    "print(others)\n",
    "others.clear()\n",
    "print(others)"
   ]
  },
  {
   "cell_type": "markdown",
   "id": "ddd93690",
   "metadata": {},
   "source": [
    "inを使ったキーの有無のテスト"
   ]
  },
  {
   "cell_type": "code",
   "execution_count": 22,
   "id": "2bc5f796",
   "metadata": {},
   "outputs": [
    {
     "name": "stdout",
     "output_type": "stream",
     "text": [
      "{'Chapman': 'Graham', 'Cleese': 'John', 'Idle': 'Eric', 'Jones': 'Terry', 'Palin': 'Michael', 'Gilliam': 'Terry', 'Howard': 'Moe'}\n",
      "True\n",
      "False\n"
     ]
    }
   ],
   "source": [
    "print(pythons)\n",
    "print('Chapman' in pythons)\n",
    "print('Gerry' in pythons)"
   ]
  },
  {
   "cell_type": "markdown",
   "id": "147c8dc6",
   "metadata": {},
   "source": [
    "[key]による要素の取得"
   ]
  },
  {
   "cell_type": "code",
   "execution_count": 23,
   "id": "bc89ccc8",
   "metadata": {},
   "outputs": [
    {
     "name": "stdout",
     "output_type": "stream",
     "text": [
      "{'Chapman': 'Graham', 'Cleese': 'John', 'Idle': 'Eric', 'Jones': 'Terry', 'Palin': 'Michael', 'Gilliam': 'Terry', 'Howard': 'Moe'}\n",
      "Graham\n"
     ]
    }
   ],
   "source": [
    "print(pythons)\n",
    "print(pythons['Chapman'])"
   ]
  },
  {
   "cell_type": "code",
   "execution_count": 24,
   "id": "acc16cfa",
   "metadata": {},
   "outputs": [
    {
     "ename": "KeyError",
     "evalue": "'Marx'",
     "output_type": "error",
     "traceback": [
      "\u001b[1;31m---------------------------------------------------------------------------\u001b[0m",
      "\u001b[1;31mKeyError\u001b[0m                                  Traceback (most recent call last)",
      "\u001b[1;32m~\\AppData\\Local\\Temp/ipykernel_13556/3387858422.py\u001b[0m in \u001b[0;36m<module>\u001b[1;34m\u001b[0m\n\u001b[1;32m----> 1\u001b[1;33m \u001b[0mprint\u001b[0m\u001b[1;33m(\u001b[0m\u001b[0mpythons\u001b[0m\u001b[1;33m[\u001b[0m\u001b[1;34m'Marx'\u001b[0m\u001b[1;33m]\u001b[0m\u001b[1;33m)\u001b[0m\u001b[1;33m\u001b[0m\u001b[1;33m\u001b[0m\u001b[0m\n\u001b[0m",
      "\u001b[1;31mKeyError\u001b[0m: 'Marx'"
     ]
    }
   ],
   "source": [
    "print(pythons['Marx'])"
   ]
  },
  {
   "cell_type": "code",
   "execution_count": 27,
   "id": "3a2467a1",
   "metadata": {},
   "outputs": [
    {
     "name": "stdout",
     "output_type": "stream",
     "text": [
      "Graham\n",
      "Not a python\n"
     ]
    }
   ],
   "source": [
    "print(pythons.get('Chapman'))\n",
    "print(pythons.get('Gerry','Not a python'))"
   ]
  },
  {
   "cell_type": "markdown",
   "id": "0c4b794f",
   "metadata": {},
   "source": [
    "keys()によるすべてのキーの取得"
   ]
  },
  {
   "cell_type": "code",
   "execution_count": 28,
   "id": "b9b230a9",
   "metadata": {},
   "outputs": [
    {
     "name": "stdout",
     "output_type": "stream",
     "text": [
      "{'Chapman': 'Graham', 'Cleese': 'John', 'Idle': 'Eric', 'Jones': 'Terry', 'Palin': 'Michael', 'Gilliam': 'Terry', 'Howard': 'Moe'}\n",
      "dict_keys(['Chapman', 'Cleese', 'Idle', 'Jones', 'Palin', 'Gilliam', 'Howard'])\n"
     ]
    }
   ],
   "source": [
    "print(pythons)\n",
    "print(pythons.keys())"
   ]
  },
  {
   "cell_type": "markdown",
   "id": "84dd8fd9",
   "metadata": {},
   "source": [
    "values()によるすべての値の取得"
   ]
  },
  {
   "cell_type": "code",
   "execution_count": 31,
   "id": "544705c3",
   "metadata": {},
   "outputs": [
    {
     "data": {
      "text/plain": [
       "dict_values(['Graham', 'John', 'Eric', 'Terry', 'Michael', 'Terry', 'Moe'])"
      ]
     },
     "execution_count": 31,
     "metadata": {},
     "output_type": "execute_result"
    }
   ],
   "source": [
    "pythons.values()"
   ]
  },
  {
   "cell_type": "markdown",
   "id": "5d329dbc",
   "metadata": {},
   "source": [
    "items()によるすべてのキー/値ペアの取得"
   ]
  },
  {
   "cell_type": "code",
   "execution_count": 32,
   "id": "d511443e",
   "metadata": {},
   "outputs": [
    {
     "data": {
      "text/plain": [
       "dict_items([('Chapman', 'Graham'), ('Cleese', 'John'), ('Idle', 'Eric'), ('Jones', 'Terry'), ('Palin', 'Michael'), ('Gilliam', 'Terry'), ('Howard', 'Moe')])"
      ]
     },
     "execution_count": 32,
     "metadata": {},
     "output_type": "execute_result"
    }
   ],
   "source": [
    "pythons.items()"
   ]
  },
  {
   "cell_type": "markdown",
   "id": "7f109df2",
   "metadata": {},
   "source": [
    "=による代入とcopy()によるコピー"
   ]
  },
  {
   "cell_type": "code",
   "execution_count": 34,
   "id": "c49125f5",
   "metadata": {},
   "outputs": [
    {
     "name": "stdout",
     "output_type": "stream",
     "text": [
      "{'Chapman': 'Graham', 'Cleese': 'John', 'Idle': 'Eric', 'Jones': 'Terry', 'Palin': 'Michael', 'Gilliam': 'Terry', 'Howard': 'Moe'}\n",
      "{'Chapman': 'Graham', 'Cleese': 'John', 'Idle': 'Eric', 'Jones': 'Terry', 'Palin': 'Michael', 'Gilliam': 'Terry', 'Howard': 'Moe', 'Gerry': 'Williams'}\n",
      "{'Chapman': 'Graham', 'Cleese': 'John', 'Idle': 'Eric', 'Jones': 'Terry', 'Palin': 'Michael', 'Gilliam': 'Terry', 'Howard': 'Moe', 'Gerry': 'Williams'}\n"
     ]
    }
   ],
   "source": [
    "print(pythons)\n",
    "pythons_copy = pythons\n",
    "pythons_copy['Gerry'] = 'Williams'\n",
    "print(pythons_copy)\n",
    "print(pythons)"
   ]
  },
  {
   "cell_type": "code",
   "execution_count": 35,
   "id": "5768cd7f",
   "metadata": {},
   "outputs": [
    {
     "name": "stdout",
     "output_type": "stream",
     "text": [
      "{'Chapman': 'Graham', 'Cleese': 'John', 'Idle': 'Eric', 'Jones': 'Terry', 'Palin': 'Michael', 'Gilliam': 'Terry', 'Howard': 'Moe', 'Gerry': 'Williams'}\n",
      "{'Chapman': 'Graham', 'Cleese': 'John', 'Idle': 'Eric', 'Jones': 'Terry', 'Palin': 'Michael', 'Gilliam': 'Terry', 'Howard': 'Moe', 'Gerry': 'Williams', 'Tom': 'Brown'}\n",
      "{'Chapman': 'Graham', 'Cleese': 'John', 'Idle': 'Eric', 'Jones': 'Terry', 'Palin': 'Michael', 'Gilliam': 'Terry', 'Howard': 'Moe', 'Gerry': 'Williams'}\n"
     ]
    }
   ],
   "source": [
    "print(pythons)\n",
    "pythons_copy = pythons.copy()\n",
    "pythons_copy['Tom'] = 'Brown'\n",
    "print(pythons_copy)\n",
    "print(pythons)"
   ]
  },
  {
   "cell_type": "markdown",
   "id": "9718fd27",
   "metadata": {},
   "source": [
    "setdefault()とdefaultdict()による存在しないキーの処理"
   ]
  },
  {
   "cell_type": "code",
   "execution_count": 36,
   "id": "394341b5",
   "metadata": {},
   "outputs": [
    {
     "name": "stdout",
     "output_type": "stream",
     "text": [
      "{'Hydrogen': 1, 'Helium': 2}\n"
     ]
    }
   ],
   "source": [
    "periodic_table = {'Hydrogen':1,'Helium':2}\n",
    "print(periodic_table)"
   ]
  },
  {
   "cell_type": "code",
   "execution_count": 38,
   "id": "3a766ee3",
   "metadata": {},
   "outputs": [
    {
     "name": "stdout",
     "output_type": "stream",
     "text": [
      "12\n",
      "{'Hydrogen': 1, 'Helium': 2, 'Carbon': 12}\n"
     ]
    }
   ],
   "source": [
    "carbon = periodic_table.setdefault('Carbon',12)\n",
    "print(carbon)\n",
    "print(periodic_table)"
   ]
  },
  {
   "cell_type": "code",
   "execution_count": null,
   "id": "f60d44ed",
   "metadata": {},
   "outputs": [],
   "source": []
  }
 ],
 "metadata": {
  "kernelspec": {
   "display_name": "Python 3 (ipykernel)",
   "language": "python",
   "name": "python3"
  },
  "language_info": {
   "codemirror_mode": {
    "name": "ipython",
    "version": 3
   },
   "file_extension": ".py",
   "mimetype": "text/x-python",
   "name": "python",
   "nbconvert_exporter": "python",
   "pygments_lexer": "ipython3",
   "version": "3.9.7"
  }
 },
 "nbformat": 4,
 "nbformat_minor": 5
}
