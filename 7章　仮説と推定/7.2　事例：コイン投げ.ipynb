{
 "cells": [
  {
   "cell_type": "code",
   "execution_count": 34,
   "id": "6312d087",
   "metadata": {},
   "outputs": [],
   "source": [
    "import math\n",
    "import random"
   ]
  },
  {
   "cell_type": "code",
   "execution_count": 18,
   "id": "68f3c8c5",
   "metadata": {},
   "outputs": [],
   "source": [
    "def normal_cdf(x,mu=0,sigma=1):\n",
    "    return (1 + math.erf((x - mu) / math.sqrt(2) / sigma)) / 2\n",
    "def inverse_normal_cdf(p,mu=0,sigma=1,tolerance=0.00001):\n",
    "    if mu != 0 or sigma != 1:\n",
    "        return mu + sigma * inverse_normal_cdf(p,tolerance=tolerance)\n",
    "    low_z,low_p = -10.0,1\n",
    "    hi_z,hi_p = 10.0,1\n",
    "    while hi_z - low_z > tolerance:\n",
    "        mid_z = (low_z + hi_z) / 2\n",
    "        mid_p = normal_cdf(mid_z)\n",
    "        if mid_p < p:\n",
    "            low_z,low_p = mid_z,mid_p\n",
    "        elif mid_p > p:\n",
    "            hi_z,hi_p = mid_z,mid_p\n",
    "        else:\n",
    "            break\n",
    "    return mid_z"
   ]
  },
  {
   "cell_type": "code",
   "execution_count": 2,
   "id": "82deb018",
   "metadata": {},
   "outputs": [],
   "source": [
    "def normal_approximation_to_binomial(n,p):\n",
    "    mu = p * n\n",
    "    sigma = math.sqrt(p * (1 - p) * n)\n",
    "    return mu,sigma"
   ]
  },
  {
   "cell_type": "code",
   "execution_count": 5,
   "id": "2ba0920f",
   "metadata": {},
   "outputs": [
    {
     "name": "stdout",
     "output_type": "stream",
     "text": [
      "<function normal_cdf at 0x000001C82775F700>\n"
     ]
    }
   ],
   "source": [
    "normal_probability_below = normal_cdf\n",
    "print(normal_probability_below)"
   ]
  },
  {
   "cell_type": "code",
   "execution_count": 6,
   "id": "59d2d39e",
   "metadata": {},
   "outputs": [],
   "source": [
    "def normal_probability_above(lo,mu=0,sigma=1):\n",
    "    return 1 - normal_cdf(lo,mu,sigma)"
   ]
  },
  {
   "cell_type": "code",
   "execution_count": 7,
   "id": "8f180784",
   "metadata": {},
   "outputs": [],
   "source": [
    "def normal_probability_between(lo,hi,mu=0,sigma=1):\n",
    "    return normal_cdf(hi,mu,sigma) - normal_cdf(lo,mu,sigma)"
   ]
  },
  {
   "cell_type": "code",
   "execution_count": 8,
   "id": "afdb372b",
   "metadata": {},
   "outputs": [],
   "source": [
    "def normal_upper_bound(probability,mu=0,sigma=1):\n",
    "    return inverse_normal_cdf(probability,mu,sigma)"
   ]
  },
  {
   "cell_type": "code",
   "execution_count": 9,
   "id": "826e02aa",
   "metadata": {},
   "outputs": [],
   "source": [
    "def normal_lower_bound(probability,mu=0,sigma=1):\n",
    "    return inverse_normal_cdf(1 - probability,mu,sigma)"
   ]
  },
  {
   "cell_type": "code",
   "execution_count": 16,
   "id": "0c7b12fe",
   "metadata": {},
   "outputs": [],
   "source": [
    "def normal_two_sided_bounds(probability,mu=0,sigma=1):\n",
    "    tail_probability = (1 - probability) / 2\n",
    "    upper_bound = normal_lower_bound(tail_probability,mu,sigma)\n",
    "    lower_bound = normal_upper_bound(tail_probability,mu,sigma)\n",
    "    return lower_bound,upper_bound"
   ]
  },
  {
   "cell_type": "code",
   "execution_count": 14,
   "id": "2cea1d41",
   "metadata": {},
   "outputs": [
    {
     "name": "stdout",
     "output_type": "stream",
     "text": [
      "500.0\n",
      "15.811388300841896\n"
     ]
    }
   ],
   "source": [
    "mu_0,sigma_0 = normal_approximation_to_binomial(1000,0.5)\n",
    "print(mu_0)\n",
    "print(sigma_0)"
   ]
  },
  {
   "cell_type": "code",
   "execution_count": 26,
   "id": "67315387",
   "metadata": {},
   "outputs": [
    {
     "name": "stdout",
     "output_type": "stream",
     "text": [
      "469.01026640487555\n",
      "530.9897335951244\n"
     ]
    }
   ],
   "source": [
    "lo,hi = normal_two_sided_bounds(0.95,mu_0,sigma_0)\n",
    "print(lo)\n",
    "print(hi)"
   ]
  },
  {
   "cell_type": "code",
   "execution_count": 27,
   "id": "42a81335",
   "metadata": {},
   "outputs": [
    {
     "name": "stdout",
     "output_type": "stream",
     "text": [
      "550.0\n",
      "15.732132722552274\n"
     ]
    }
   ],
   "source": [
    "mu_1,sigma_1 = normal_approximation_to_binomial(1000,0.55)\n",
    "print(mu_1)\n",
    "print(sigma_1)"
   ]
  },
  {
   "cell_type": "code",
   "execution_count": 28,
   "id": "03639bf2",
   "metadata": {},
   "outputs": [
    {
     "name": "stdout",
     "output_type": "stream",
     "text": [
      "0.8865480012953671\n"
     ]
    }
   ],
   "source": [
    "type_2_probability = normal_probability_between(lo,hi,mu_1,sigma_1)\n",
    "power = 1 - type_2_probability\n",
    "print(power)"
   ]
  },
  {
   "cell_type": "code",
   "execution_count": 29,
   "id": "83ba1d56",
   "metadata": {},
   "outputs": [
    {
     "name": "stdout",
     "output_type": "stream",
     "text": [
      "526.0073585242053\n"
     ]
    }
   ],
   "source": [
    "hi = normal_upper_bound(0.95,mu_0,sigma_0)\n",
    "print(hi)"
   ]
  },
  {
   "cell_type": "code",
   "execution_count": 30,
   "id": "11539a05",
   "metadata": {},
   "outputs": [
    {
     "name": "stdout",
     "output_type": "stream",
     "text": [
      "0.06362051966928267\n",
      "0.9363794803307173\n"
     ]
    }
   ],
   "source": [
    "type_2_probability = normal_probability_below(hi,mu_1,sigma_1)\n",
    "power = 1 - type_2_probability\n",
    "print(type_2_probability)\n",
    "print(power)"
   ]
  },
  {
   "cell_type": "code",
   "execution_count": 32,
   "id": "d99fb29e",
   "metadata": {},
   "outputs": [],
   "source": [
    "def two_sided_p_value(x,mu=0,sigma=1):\n",
    "    if x >= mu:\n",
    "        return 2 * normal_probability_above(x,mu,sigma)\n",
    "    else:\n",
    "        return 2 * normal_probability_below(x,mu,sigma)"
   ]
  },
  {
   "cell_type": "code",
   "execution_count": 33,
   "id": "c4ee4911",
   "metadata": {},
   "outputs": [
    {
     "data": {
      "text/plain": [
       "0.06207721579598835"
      ]
     },
     "execution_count": 33,
     "metadata": {},
     "output_type": "execute_result"
    }
   ],
   "source": [
    "two_sided_p_value(529.5,mu_0,sigma_0)"
   ]
  },
  {
   "cell_type": "code",
   "execution_count": 38,
   "id": "f122907d",
   "metadata": {},
   "outputs": [
    {
     "name": "stdout",
     "output_type": "stream",
     "text": [
      "0.06227\n"
     ]
    }
   ],
   "source": [
    "extreme_value_count = 0\n",
    "for _ in range(100000):\n",
    "    num_heads = sum(1 if random.random() < 0.5 else 0 for _ in range(1000))\n",
    "    if num_heads >= 530 or num_heads <= 470:\n",
    "        extreme_value_count += 1\n",
    "print(extreme_value_count / 100000)"
   ]
  },
  {
   "cell_type": "code",
   "execution_count": 39,
   "id": "03e6266d",
   "metadata": {},
   "outputs": [
    {
     "data": {
      "text/plain": [
       "0.046345287837786575"
      ]
     },
     "execution_count": 39,
     "metadata": {},
     "output_type": "execute_result"
    }
   ],
   "source": [
    "two_sided_p_value(531.5,mu_0,sigma_0)"
   ]
  },
  {
   "cell_type": "code",
   "execution_count": 41,
   "id": "5cf76062",
   "metadata": {},
   "outputs": [
    {
     "data": {
      "text/plain": [
       "0.06062885772582072"
      ]
     },
     "execution_count": 41,
     "metadata": {},
     "output_type": "execute_result"
    }
   ],
   "source": [
    "upper_p_value = normal_probability_above\n",
    "upper_p_value(524.5,mu_0,sigma_0)"
   ]
  },
  {
   "cell_type": "code",
   "execution_count": 42,
   "id": "daeb06e5",
   "metadata": {},
   "outputs": [
    {
     "data": {
      "text/plain": [
       "0.04686839508859242"
      ]
     },
     "execution_count": 42,
     "metadata": {},
     "output_type": "execute_result"
    }
   ],
   "source": [
    "lower_p_value = normal_probability_below\n",
    "upper_p_value(526.5,mu_0,sigma_0)"
   ]
  },
  {
   "cell_type": "code",
   "execution_count": null,
   "id": "45947078",
   "metadata": {},
   "outputs": [],
   "source": []
  }
 ],
 "metadata": {
  "kernelspec": {
   "display_name": "Python 3 (ipykernel)",
   "language": "python",
   "name": "python3"
  },
  "language_info": {
   "codemirror_mode": {
    "name": "ipython",
    "version": 3
   },
   "file_extension": ".py",
   "mimetype": "text/x-python",
   "name": "python",
   "nbconvert_exporter": "python",
   "pygments_lexer": "ipython3",
   "version": "3.9.7"
  }
 },
 "nbformat": 4,
 "nbformat_minor": 5
}
