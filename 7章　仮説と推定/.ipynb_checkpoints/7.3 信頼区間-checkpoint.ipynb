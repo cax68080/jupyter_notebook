{
 "cells": [
  {
   "cell_type": "code",
   "execution_count": 1,
   "id": "da782e05",
   "metadata": {},
   "outputs": [],
   "source": [
    "import math"
   ]
  },
  {
   "cell_type": "code",
   "execution_count": 10,
   "id": "9c179423",
   "metadata": {},
   "outputs": [],
   "source": [
    "def normal_two_sided_bounds(probability,mu=0,sigma=1):\n",
    "    tail_probability = (1 - probability) / 2\n",
    "    upper_bound = normal_lower_bound(tail_probability,mu,sigma)\n",
    "    lower_bound = normal_upper_bound(tail_probability,mu,sigma)\n",
    "    return lower_bound,upper_bound\n",
    "def normal_cdf(x,mu=0,sigma=1):\n",
    "    return (1 + math.erf((x - mu) / math.sqrt(2) / sigma)) / 2\n",
    "def inverse_normal_cdf(p,mu=0,sigma=1,tolerance=0.00001):\n",
    "    if mu != 0 or sigma != 1:\n",
    "        return mu + sigma * inverse_normal_cdf(p,tolerance=tolerance)\n",
    "    low_z,low_p = -10.0,1\n",
    "    hi_z,hi_p = 10.0,1\n",
    "    while hi_z - low_z > tolerance:\n",
    "        mid_z = (low_z + hi_z) / 2\n",
    "        mid_p = normal_cdf(mid_z)\n",
    "        if mid_p < p:\n",
    "            low_z,low_p = mid_z,mid_p\n",
    "        elif mid_p > p:\n",
    "            hi_z,hi_p = mid_z,mid_p\n",
    "        else:\n",
    "            break\n",
    "    return mid_z\n",
    "def normal_lower_bound(probability,mu=0,sigma=1):\n",
    "    return inverse_normal_cdf(1 - probability,mu,sigma)\n",
    "def normal_upper_bound(probability,mu=0,sigma=1):\n",
    "    return inverse_normal_cdf(probability,mu,sigma)"
   ]
  },
  {
   "cell_type": "code",
   "execution_count": 11,
   "id": "bf87d9c2",
   "metadata": {},
   "outputs": [
    {
     "name": "stdout",
     "output_type": "stream",
     "text": [
      "0.015791611697353755\n"
     ]
    },
    {
     "data": {
      "text/plain": [
       "(0.4940490278129096, 0.5559509721870904)"
      ]
     },
     "execution_count": 11,
     "metadata": {},
     "output_type": "execute_result"
    }
   ],
   "source": [
    "#math.sqrt(p * (1 - p) / 1000)\n",
    "p_hat = 525 / 1000\n",
    "mu = p_hat\n",
    "sigma = math.sqrt(p_hat * (1 - p_hat) / 1000)\n",
    "print(sigma)\n",
    "normal_two_sided_bounds(0.95,mu,sigma)"
   ]
  },
  {
   "cell_type": "code",
   "execution_count": 12,
   "id": "386ac626",
   "metadata": {},
   "outputs": [
    {
     "name": "stdout",
     "output_type": "stream",
     "text": [
      "0.015760710643876435\n"
     ]
    },
    {
     "data": {
      "text/plain": [
       "(0.5091095927295919, 0.5708904072704082)"
      ]
     },
     "execution_count": 12,
     "metadata": {},
     "output_type": "execute_result"
    }
   ],
   "source": [
    "p_hat = 540 / 1000\n",
    "mu = p_hat\n",
    "sigma = math.sqrt(p_hat * (1 - p_hat) / 1000)\n",
    "print(sigma)\n",
    "normal_two_sided_bounds(0.95,mu,sigma)"
   ]
  },
  {
   "cell_type": "code",
   "execution_count": null,
   "id": "cfb1f298",
   "metadata": {},
   "outputs": [],
   "source": []
  }
 ],
 "metadata": {
  "kernelspec": {
   "display_name": "Python 3 (ipykernel)",
   "language": "python",
   "name": "python3"
  },
  "language_info": {
   "codemirror_mode": {
    "name": "ipython",
    "version": 3
   },
   "file_extension": ".py",
   "mimetype": "text/x-python",
   "name": "python",
   "nbconvert_exporter": "python",
   "pygments_lexer": "ipython3",
   "version": "3.9.7"
  }
 },
 "nbformat": 4,
 "nbformat_minor": 5
}
