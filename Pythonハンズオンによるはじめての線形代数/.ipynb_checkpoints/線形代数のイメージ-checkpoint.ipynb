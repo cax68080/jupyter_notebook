{
 "cells": [
  {
   "cell_type": "markdown",
   "id": "67244a58",
   "metadata": {},
   "source": [
    "## ベクトル・行列の簡単な例"
   ]
  },
  {
   "cell_type": "code",
   "execution_count": 1,
   "id": "24f453f9",
   "metadata": {},
   "outputs": [],
   "source": [
    "import numpy as np"
   ]
  },
  {
   "cell_type": "code",
   "execution_count": 6,
   "id": "3ee2d507",
   "metadata": {},
   "outputs": [
    {
     "name": "stdout",
     "output_type": "stream",
     "text": [
      "[[300 100 150]\n",
      " [300  20 330]]\n",
      "[[ 6]\n",
      " [10]\n",
      " [ 3]]\n"
     ]
    },
    {
     "data": {
      "text/plain": [
       "array([[3250],\n",
       "       [2990]])"
      ]
     },
     "execution_count": 6,
     "metadata": {},
     "output_type": "execute_result"
    }
   ],
   "source": [
    "a = np.array([300,100,150,300,20,330]).reshape(2,3)\n",
    "print(a)\n",
    "b = np.array([6,10,3]).reshape(3,1)\n",
    "print(b)\n",
    "np.dot(a,b)"
   ]
  },
  {
   "cell_type": "markdown",
   "id": "d2b92ce4",
   "metadata": {},
   "source": [
    "## ベクトル・行列のいろいろな例"
   ]
  },
  {
   "cell_type": "code",
   "execution_count": 7,
   "id": "81aed7dc",
   "metadata": {},
   "outputs": [
    {
     "data": {
      "text/plain": [
       "array([[0, 0, 1],\n",
       "       [1, 0, 0],\n",
       "       [0, 1, 0]])"
      ]
     },
     "execution_count": 7,
     "metadata": {},
     "output_type": "execute_result"
    }
   ],
   "source": [
    "A = np.array([0,0,1,1,0,0,0,1,0]).reshape(3,3)\n",
    "A"
   ]
  },
  {
   "cell_type": "code",
   "execution_count": 9,
   "id": "4a113078",
   "metadata": {},
   "outputs": [],
   "source": [
    "a = np.array([1,0,0]).reshape(3,1)\n",
    "b = np.array([0,1,0]).reshape(3,1)\n",
    "c = np.array([0,0,1]).reshape(3,1)"
   ]
  },
  {
   "cell_type": "code",
   "execution_count": 10,
   "id": "a0ce9d5d",
   "metadata": {},
   "outputs": [
    {
     "name": "stdout",
     "output_type": "stream",
     "text": [
      "[[0]\n",
      " [1]\n",
      " [0]]\n",
      "[[0]\n",
      " [0]\n",
      " [1]]\n",
      "[[1]\n",
      " [0]\n",
      " [0]]\n"
     ]
    }
   ],
   "source": [
    "a2 = np.dot(A,a)\n",
    "b2 = np.dot(A,b)\n",
    "c2 = np.dot(A,c)\n",
    "print(a2)\n",
    "print(b2)\n",
    "print(c2)"
   ]
  },
  {
   "cell_type": "code",
   "execution_count": null,
   "id": "bcb66cd5",
   "metadata": {},
   "outputs": [],
   "source": []
  }
 ],
 "metadata": {
  "kernelspec": {
   "display_name": "Python 3 (ipykernel)",
   "language": "python",
   "name": "python3"
  },
  "language_info": {
   "codemirror_mode": {
    "name": "ipython",
    "version": 3
   },
   "file_extension": ".py",
   "mimetype": "text/x-python",
   "name": "python",
   "nbconvert_exporter": "python",
   "pygments_lexer": "ipython3",
   "version": "3.9.7"
  }
 },
 "nbformat": 4,
 "nbformat_minor": 5
}
