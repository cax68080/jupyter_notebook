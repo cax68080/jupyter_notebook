{
 "cells": [
  {
   "cell_type": "markdown",
   "id": "40d16d78",
   "metadata": {},
   "source": [
    "## ベクトル"
   ]
  },
  {
   "cell_type": "code",
   "execution_count": 1,
   "id": "09c05ea2",
   "metadata": {},
   "outputs": [],
   "source": [
    "import numpy as np"
   ]
  },
  {
   "cell_type": "code",
   "execution_count": 2,
   "id": "2fa5c374",
   "metadata": {},
   "outputs": [
    {
     "data": {
      "text/plain": [
       "array([[-5.2],\n",
       "       [ 4. ],\n",
       "       [ 4.4]])"
      ]
     },
     "execution_count": 2,
     "metadata": {},
     "output_type": "execute_result"
    }
   ],
   "source": [
    "x = np.array([-5.2,4.0,4.4]).reshape(3,1)\n",
    "x"
   ]
  },
  {
   "cell_type": "code",
   "execution_count": 3,
   "id": "15047941",
   "metadata": {},
   "outputs": [
    {
     "data": {
      "text/plain": [
       "array([[-5.2,  4. ,  4.4]])"
      ]
     },
     "execution_count": 3,
     "metadata": {},
     "output_type": "execute_result"
    }
   ],
   "source": [
    "x.T"
   ]
  },
  {
   "cell_type": "markdown",
   "id": "54a1b628",
   "metadata": {},
   "source": [
    "## ベクトルの基本演算"
   ]
  },
  {
   "cell_type": "code",
   "execution_count": 1,
   "id": "eec30685",
   "metadata": {},
   "outputs": [],
   "source": [
    "import numpy as np"
   ]
  },
  {
   "cell_type": "code",
   "execution_count": 4,
   "id": "b51bf1fc",
   "metadata": {},
   "outputs": [
    {
     "name": "stdout",
     "output_type": "stream",
     "text": [
      "[[2]\n",
      " [1]]\n",
      "[[1]\n",
      " [3]]\n"
     ]
    }
   ],
   "source": [
    "x = np.array([2,1]).reshape(2,1)\n",
    "y = np.array([1,3]).reshape(2,1)\n",
    "print(x)\n",
    "print(y)"
   ]
  },
  {
   "cell_type": "code",
   "execution_count": 5,
   "id": "684f8baf",
   "metadata": {},
   "outputs": [
    {
     "data": {
      "text/plain": [
       "array([[3],\n",
       "       [4]])"
      ]
     },
     "execution_count": 5,
     "metadata": {},
     "output_type": "execute_result"
    }
   ],
   "source": [
    "x + y"
   ]
  },
  {
   "cell_type": "code",
   "execution_count": 6,
   "id": "5ef2b122",
   "metadata": {},
   "outputs": [
    {
     "data": {
      "text/plain": [
       "array([[ 1],\n",
       "       [-2]])"
      ]
     },
     "execution_count": 6,
     "metadata": {},
     "output_type": "execute_result"
    }
   ],
   "source": [
    "x - y"
   ]
  },
  {
   "cell_type": "code",
   "execution_count": 8,
   "id": "166d5966",
   "metadata": {},
   "outputs": [
    {
     "data": {
      "text/plain": [
       "array([[4],\n",
       "       [2]])"
      ]
     },
     "execution_count": 8,
     "metadata": {},
     "output_type": "execute_result"
    }
   ],
   "source": [
    "np.dot(x,2)"
   ]
  },
  {
   "cell_type": "code",
   "execution_count": 9,
   "id": "6de541b1",
   "metadata": {},
   "outputs": [
    {
     "data": {
      "text/plain": [
       "array([[-1],\n",
       "       [-3]])"
      ]
     },
     "execution_count": 9,
     "metadata": {},
     "output_type": "execute_result"
    }
   ],
   "source": [
    "np.dot(y,-1)"
   ]
  },
  {
   "cell_type": "code",
   "execution_count": 9,
   "id": "3e33cec6",
   "metadata": {},
   "outputs": [
    {
     "name": "stdout",
     "output_type": "stream",
     "text": [
      "[ 0  5 10 15]\n"
     ]
    }
   ],
   "source": [
    "x = np.arange(0,20,5)\n",
    "print(x)"
   ]
  },
  {
   "cell_type": "code",
   "execution_count": 5,
   "id": "1f5ed3b3",
   "metadata": {},
   "outputs": [
    {
     "data": {
      "text/plain": [
       "array([[1],\n",
       "       [2],\n",
       "       [3],\n",
       "       [4],\n",
       "       [5],\n",
       "       [6],\n",
       "       [7],\n",
       "       [8],\n",
       "       [9]])"
      ]
     },
     "execution_count": 5,
     "metadata": {},
     "output_type": "execute_result"
    }
   ],
   "source": [
    "x = np.arange(1,10).reshape(-1,1)\n",
    "x"
   ]
  },
  {
   "cell_type": "markdown",
   "id": "1d2c3042",
   "metadata": {},
   "source": [
    "## ベクトルの分解と線形結合"
   ]
  },
  {
   "cell_type": "code",
   "execution_count": 20,
   "id": "a8cf6bd4",
   "metadata": {},
   "outputs": [],
   "source": [
    "import numpy as np"
   ]
  },
  {
   "cell_type": "code",
   "execution_count": 21,
   "id": "0334913e",
   "metadata": {},
   "outputs": [
    {
     "data": {
      "text/plain": [
       "array([[2],\n",
       "       [1]])"
      ]
     },
     "execution_count": 21,
     "metadata": {},
     "output_type": "execute_result"
    }
   ],
   "source": [
    "x = np.array([2,1]).reshape(-1,1)\n",
    "x"
   ]
  },
  {
   "cell_type": "code",
   "execution_count": 22,
   "id": "24ebf235",
   "metadata": {},
   "outputs": [
    {
     "data": {
      "text/plain": [
       "array([[0.89442719],\n",
       "       [0.4472136 ]])"
      ]
     },
     "execution_count": 22,
     "metadata": {},
     "output_type": "execute_result"
    }
   ],
   "source": [
    "e = x / np.linalg.norm(x)\n",
    "e"
   ]
  },
  {
   "cell_type": "code",
   "execution_count": 23,
   "id": "054220a5",
   "metadata": {},
   "outputs": [
    {
     "data": {
      "text/plain": [
       "0.9999999999999999"
      ]
     },
     "execution_count": 23,
     "metadata": {},
     "output_type": "execute_result"
    }
   ],
   "source": [
    "np.linalg.norm(e)"
   ]
  },
  {
   "cell_type": "code",
   "execution_count": 24,
   "id": "95013456",
   "metadata": {},
   "outputs": [
    {
     "data": {
      "text/plain": [
       "1.0"
      ]
     },
     "execution_count": 24,
     "metadata": {},
     "output_type": "execute_result"
    }
   ],
   "source": [
    "round(np.linalg.norm(e),10)"
   ]
  },
  {
   "cell_type": "markdown",
   "id": "94befc41",
   "metadata": {},
   "source": [
    "## ノルム、距離、内積"
   ]
  },
  {
   "cell_type": "code",
   "execution_count": 25,
   "id": "d3205d50",
   "metadata": {},
   "outputs": [],
   "source": [
    "import numpy as np"
   ]
  },
  {
   "cell_type": "code",
   "execution_count": 26,
   "id": "093be6d3",
   "metadata": {},
   "outputs": [
    {
     "data": {
      "text/plain": [
       "array([[ 4],\n",
       "       [-3]])"
      ]
     },
     "execution_count": 26,
     "metadata": {},
     "output_type": "execute_result"
    }
   ],
   "source": [
    "x = np.array([4,-3]).reshape(-1,1)\n",
    "x"
   ]
  },
  {
   "cell_type": "code",
   "execution_count": 28,
   "id": "30deefd1",
   "metadata": {},
   "outputs": [
    {
     "data": {
      "text/plain": [
       "5.0"
      ]
     },
     "execution_count": 28,
     "metadata": {},
     "output_type": "execute_result"
    }
   ],
   "source": [
    "np.linalg.norm(x)"
   ]
  },
  {
   "cell_type": "code",
   "execution_count": 29,
   "id": "9397e89b",
   "metadata": {},
   "outputs": [
    {
     "data": {
      "text/plain": [
       "7.0"
      ]
     },
     "execution_count": 29,
     "metadata": {},
     "output_type": "execute_result"
    }
   ],
   "source": [
    "np.linalg.norm(x,1)"
   ]
  },
  {
   "cell_type": "code",
   "execution_count": 30,
   "id": "133d24df",
   "metadata": {},
   "outputs": [
    {
     "data": {
      "text/plain": [
       "5.0"
      ]
     },
     "execution_count": 30,
     "metadata": {},
     "output_type": "execute_result"
    }
   ],
   "source": [
    "np.linalg.norm(x,2)"
   ]
  },
  {
   "cell_type": "code",
   "execution_count": 31,
   "id": "9fa1ed76",
   "metadata": {},
   "outputs": [
    {
     "data": {
      "text/plain": [
       "4.0"
      ]
     },
     "execution_count": 31,
     "metadata": {},
     "output_type": "execute_result"
    }
   ],
   "source": [
    "np.linalg.norm(x,np.inf)"
   ]
  },
  {
   "cell_type": "code",
   "execution_count": 32,
   "id": "354a5b0c",
   "metadata": {},
   "outputs": [
    {
     "data": {
      "text/plain": [
       "7.280109889280518"
      ]
     },
     "execution_count": 32,
     "metadata": {},
     "output_type": "execute_result"
    }
   ],
   "source": [
    "x = np.array([4,-3]).reshape(-1,1)\n",
    "y = np.array([2,4]).reshape(-1,1)\n",
    "np.linalg.norm(x - y)"
   ]
  },
  {
   "cell_type": "code",
   "execution_count": 33,
   "id": "75998821",
   "metadata": {},
   "outputs": [
    {
     "data": {
      "text/plain": [
       "7.280109889280518"
      ]
     },
     "execution_count": 33,
     "metadata": {},
     "output_type": "execute_result"
    }
   ],
   "source": [
    "from scipy.spatial import distance\n",
    "distance.euclidean(x,y)"
   ]
  },
  {
   "cell_type": "code",
   "execution_count": 34,
   "id": "978c1ae5",
   "metadata": {},
   "outputs": [
    {
     "data": {
      "text/plain": [
       "9"
      ]
     },
     "execution_count": 34,
     "metadata": {},
     "output_type": "execute_result"
    }
   ],
   "source": [
    "distance.cityblock(x,y)"
   ]
  },
  {
   "cell_type": "code",
   "execution_count": 35,
   "id": "bc802685",
   "metadata": {},
   "outputs": [
    {
     "data": {
      "text/plain": [
       "7"
      ]
     },
     "execution_count": 35,
     "metadata": {},
     "output_type": "execute_result"
    }
   ],
   "source": [
    "distance.chebyshev(x,y)"
   ]
  },
  {
   "cell_type": "code",
   "execution_count": 36,
   "id": "fc30e9d1",
   "metadata": {},
   "outputs": [
    {
     "data": {
      "text/plain": [
       "array([[-4]])"
      ]
     },
     "execution_count": 36,
     "metadata": {},
     "output_type": "execute_result"
    }
   ],
   "source": [
    "np.dot(x.T,y)"
   ]
  },
  {
   "cell_type": "code",
   "execution_count": 37,
   "id": "907d22d1",
   "metadata": {},
   "outputs": [
    {
     "data": {
      "text/plain": [
       "-4"
      ]
     },
     "execution_count": 37,
     "metadata": {},
     "output_type": "execute_result"
    }
   ],
   "source": [
    "np.dot(x.T,y)[0,0]"
   ]
  },
  {
   "cell_type": "code",
   "execution_count": 38,
   "id": "928c16c1",
   "metadata": {},
   "outputs": [],
   "source": [
    "def cos_similarity(x,y):\n",
    "    return np.dot(x.T,y)[0,0] / (np.linalg.norm(x) * np.linalg.norm(y))"
   ]
  },
  {
   "cell_type": "code",
   "execution_count": 39,
   "id": "3323fa90",
   "metadata": {},
   "outputs": [],
   "source": [
    "x = np.array([4,-3]).reshape(-1,1)\n",
    "y = np.array([2,4]).reshape(-1,1)"
   ]
  },
  {
   "cell_type": "code",
   "execution_count": 40,
   "id": "8ba6b29d",
   "metadata": {},
   "outputs": [
    {
     "data": {
      "text/plain": [
       "-0.17888543819998318"
      ]
     },
     "execution_count": 40,
     "metadata": {},
     "output_type": "execute_result"
    }
   ],
   "source": [
    "cos_similarity(x,y)"
   ]
  },
  {
   "cell_type": "code",
   "execution_count": 43,
   "id": "1fa63bdc",
   "metadata": {},
   "outputs": [],
   "source": [
    "o = np.array([255,165,0]).reshape(-1,1)\n",
    "r = np.array([255,0,0]).reshape(-1,1)\n",
    "y = np.array([255,255,0]).reshape(-1,1)\n",
    "b = np.array([0,0,255]).reshape(-1,1)"
   ]
  },
  {
   "cell_type": "code",
   "execution_count": 44,
   "id": "6976ed87",
   "metadata": {},
   "outputs": [
    {
     "data": {
      "text/plain": [
       "0.0"
      ]
     },
     "execution_count": 44,
     "metadata": {},
     "output_type": "execute_result"
    }
   ],
   "source": [
    "distance.euclidean(o,o)"
   ]
  },
  {
   "cell_type": "code",
   "execution_count": 45,
   "id": "c4e83e2a",
   "metadata": {},
   "outputs": [
    {
     "data": {
      "text/plain": [
       "165.0"
      ]
     },
     "execution_count": 45,
     "metadata": {},
     "output_type": "execute_result"
    }
   ],
   "source": [
    "distance.euclidean(o,r)"
   ]
  },
  {
   "cell_type": "code",
   "execution_count": 46,
   "id": "f89f04c5",
   "metadata": {},
   "outputs": [
    {
     "data": {
      "text/plain": [
       "90.0"
      ]
     },
     "execution_count": 46,
     "metadata": {},
     "output_type": "execute_result"
    }
   ],
   "source": [
    "distance.euclidean(o,y)"
   ]
  },
  {
   "cell_type": "code",
   "execution_count": 47,
   "id": "9ca03c35",
   "metadata": {},
   "outputs": [
    {
     "data": {
      "text/plain": [
       "396.57912199206856"
      ]
     },
     "execution_count": 47,
     "metadata": {},
     "output_type": "execute_result"
    }
   ],
   "source": [
    "distance.euclidean(o,b)"
   ]
  },
  {
   "cell_type": "code",
   "execution_count": 48,
   "id": "4af05d48",
   "metadata": {},
   "outputs": [
    {
     "data": {
      "text/plain": [
       "1.0"
      ]
     },
     "execution_count": 48,
     "metadata": {},
     "output_type": "execute_result"
    }
   ],
   "source": [
    "cos_similarity(o,o)"
   ]
  },
  {
   "cell_type": "code",
   "execution_count": 49,
   "id": "309d3fbb",
   "metadata": {},
   "outputs": [
    {
     "data": {
      "text/plain": [
       "0.8395701571521511"
      ]
     },
     "execution_count": 49,
     "metadata": {},
     "output_type": "execute_result"
    }
   ],
   "source": [
    "cos_similarity(o,r)"
   ]
  },
  {
   "cell_type": "code",
   "execution_count": 50,
   "id": "e588c191",
   "metadata": {},
   "outputs": [
    {
     "data": {
      "text/plain": [
       "0.9778024140774094"
      ]
     },
     "execution_count": 50,
     "metadata": {},
     "output_type": "execute_result"
    }
   ],
   "source": [
    "cos_similarity(o,y)"
   ]
  },
  {
   "cell_type": "code",
   "execution_count": 51,
   "id": "29551cf2",
   "metadata": {},
   "outputs": [
    {
     "data": {
      "text/plain": [
       "0.0"
      ]
     },
     "execution_count": 51,
     "metadata": {},
     "output_type": "execute_result"
    }
   ],
   "source": [
    "cos_similarity(o,b)"
   ]
  },
  {
   "cell_type": "markdown",
   "id": "fed42861",
   "metadata": {},
   "source": [
    "## 正規直交基底"
   ]
  },
  {
   "cell_type": "code",
   "execution_count": 52,
   "id": "a720d4cd",
   "metadata": {},
   "outputs": [],
   "source": [
    "import numpy as np"
   ]
  },
  {
   "cell_type": "code",
   "execution_count": 53,
   "id": "77e19615",
   "metadata": {},
   "outputs": [],
   "source": [
    "a1 = np.array([1,-1,1]).reshape(-1,1)\n",
    "a2 = np.array([0,2,1]).reshape(-1,1)\n",
    "a3 = np.array([2,1,1]).reshape(-1,1)"
   ]
  },
  {
   "cell_type": "code",
   "execution_count": 54,
   "id": "917479d3",
   "metadata": {},
   "outputs": [
    {
     "data": {
      "text/plain": [
       "array([[ 1,  0,  2],\n",
       "       [-1,  2,  1],\n",
       "       [ 1,  1,  1]])"
      ]
     },
     "execution_count": 54,
     "metadata": {},
     "output_type": "execute_result"
    }
   ],
   "source": [
    "A = np.concatenate((a1,np.concatenate((a2,a3),axis=1)),axis=1)\n",
    "A"
   ]
  },
  {
   "cell_type": "code",
   "execution_count": 55,
   "id": "8a06c5cd",
   "metadata": {},
   "outputs": [
    {
     "data": {
      "text/plain": [
       "array([[ 1.,  0.,  2.],\n",
       "       [-1.,  2.,  1.],\n",
       "       [ 1.,  1.,  1.]])"
      ]
     },
     "execution_count": 55,
     "metadata": {},
     "output_type": "execute_result"
    }
   ],
   "source": [
    "A = np.array(A,dtype=np.float64)\n",
    "A"
   ]
  },
  {
   "cell_type": "code",
   "execution_count": 57,
   "id": "f6d93e10",
   "metadata": {},
   "outputs": [
    {
     "data": {
      "text/plain": [
       "3"
      ]
     },
     "execution_count": 57,
     "metadata": {},
     "output_type": "execute_result"
    }
   ],
   "source": [
    "N = A.shape[1]\n",
    "N"
   ]
  },
  {
   "cell_type": "code",
   "execution_count": 58,
   "id": "90828c70",
   "metadata": {},
   "outputs": [
    {
     "data": {
      "text/plain": [
       "array([[ 0.57735027],\n",
       "       [-0.57735027],\n",
       "       [ 0.57735027]])"
      ]
     },
     "execution_count": 58,
     "metadata": {},
     "output_type": "execute_result"
    }
   ],
   "source": [
    "u = A[:,0].reshape(-1,1) / np.linalg.norm(A[:,0])\n",
    "u"
   ]
  },
  {
   "cell_type": "code",
   "execution_count": 59,
   "id": "7ce0a3ff",
   "metadata": {},
   "outputs": [
    {
     "data": {
      "text/plain": [
       "array([[ 0.57735027,  0.15430335,  0.80178373],\n",
       "       [-0.57735027,  0.77151675,  0.26726124],\n",
       "       [ 0.57735027,  0.6172134 , -0.53452248]])"
      ]
     },
     "execution_count": 59,
     "metadata": {},
     "output_type": "execute_result"
    }
   ],
   "source": [
    "for k in range(1,N):\n",
    "    b = A[:,k].reshape(-1,1)\n",
    "    for j in range(k):\n",
    "        b = b - np.dot(u[:,j].reshape(-1,1).T,A[:,k].reshape(-1,1)) * u[:,j].reshape(-1,1)\n",
    "    ui = b / np.linalg.norm(b)\n",
    "    u = np.append(u,ui,axis=1)\n",
    "u"
   ]
  },
  {
   "cell_type": "code",
   "execution_count": 60,
   "id": "931a090e",
   "metadata": {},
   "outputs": [
    {
     "data": {
      "text/plain": [
       "array([[-0.57735027, -0.15430335, -0.80178373],\n",
       "       [ 0.57735027, -0.77151675, -0.26726124],\n",
       "       [-0.57735027, -0.6172134 ,  0.53452248]])"
      ]
     },
     "execution_count": 60,
     "metadata": {},
     "output_type": "execute_result"
    }
   ],
   "source": [
    "q,r = np.linalg.qr(A)\n",
    "q"
   ]
  },
  {
   "cell_type": "code",
   "execution_count": 61,
   "id": "96735972",
   "metadata": {},
   "outputs": [
    {
     "data": {
      "text/plain": [
       "1.0"
      ]
     },
     "execution_count": 61,
     "metadata": {},
     "output_type": "execute_result"
    }
   ],
   "source": [
    "np.linalg.norm(q[:,0])"
   ]
  },
  {
   "cell_type": "code",
   "execution_count": 62,
   "id": "a95a0c16",
   "metadata": {},
   "outputs": [
    {
     "data": {
      "text/plain": [
       "1.0000000000000002"
      ]
     },
     "execution_count": 62,
     "metadata": {},
     "output_type": "execute_result"
    }
   ],
   "source": [
    "np.linalg.norm(q[:,1])"
   ]
  },
  {
   "cell_type": "code",
   "execution_count": 63,
   "id": "1973214d",
   "metadata": {},
   "outputs": [
    {
     "data": {
      "text/plain": [
       "1.0"
      ]
     },
     "execution_count": 63,
     "metadata": {},
     "output_type": "execute_result"
    }
   ],
   "source": [
    "np.linalg.norm(q[:,2])"
   ]
  },
  {
   "cell_type": "code",
   "execution_count": 64,
   "id": "5fab511a",
   "metadata": {},
   "outputs": [
    {
     "data": {
      "text/plain": [
       "-5.551115123125783e-17"
      ]
     },
     "execution_count": 64,
     "metadata": {},
     "output_type": "execute_result"
    }
   ],
   "source": [
    "np.dot(q[:,0],q[:,1])"
   ]
  },
  {
   "cell_type": "code",
   "execution_count": 65,
   "id": "d713fe12",
   "metadata": {},
   "outputs": [
    {
     "data": {
      "text/plain": [
       "0.0"
      ]
     },
     "execution_count": 65,
     "metadata": {},
     "output_type": "execute_result"
    }
   ],
   "source": [
    "np.dot(q[:,0],q[:,2])"
   ]
  },
  {
   "cell_type": "code",
   "execution_count": 66,
   "id": "78a6907f",
   "metadata": {},
   "outputs": [
    {
     "data": {
      "text/plain": [
       "1.942890293094024e-16"
      ]
     },
     "execution_count": 66,
     "metadata": {},
     "output_type": "execute_result"
    }
   ],
   "source": [
    "np.dot(q[:,1],q[:,2])"
   ]
  },
  {
   "cell_type": "code",
   "execution_count": null,
   "id": "00c4fe80",
   "metadata": {},
   "outputs": [],
   "source": []
  }
 ],
 "metadata": {
  "kernelspec": {
   "display_name": "Python 3 (ipykernel)",
   "language": "python",
   "name": "python3"
  },
  "language_info": {
   "codemirror_mode": {
    "name": "ipython",
    "version": 3
   },
   "file_extension": ".py",
   "mimetype": "text/x-python",
   "name": "python",
   "nbconvert_exporter": "python",
   "pygments_lexer": "ipython3",
   "version": "3.9.7"
  }
 },
 "nbformat": 4,
 "nbformat_minor": 5
}
