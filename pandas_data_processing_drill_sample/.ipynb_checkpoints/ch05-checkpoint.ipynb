{
 "cells": [
  {
   "cell_type": "markdown",
   "id": "ac9451df",
   "metadata": {},
   "source": [
    "# 第5章 データを変形しよう"
   ]
  },
  {
   "cell_type": "code",
   "execution_count": 1,
   "id": "9cdcf495",
   "metadata": {},
   "outputs": [],
   "source": [
    "import pandas as pd\n",
    "import numpy as np"
   ]
  },
  {
   "cell_type": "markdown",
   "id": "d8e8ad3f",
   "metadata": {},
   "source": [
    "---"
   ]
  },
  {
   "cell_type": "markdown",
   "id": "367d84ec",
   "metadata": {},
   "source": [
    "## 5.1 異なる列名同士で連結するには"
   ]
  },
  {
   "cell_type": "code",
   "execution_count": null,
   "id": "fb93b395",
   "metadata": {},
   "outputs": [],
   "source": [
    "df1 = pd.DataFrame({\"Product\": [\"A\", \"B\"], \"Prev\": [100, 110]})\n",
    "df1"
   ]
  },
  {
   "cell_type": "code",
   "execution_count": null,
   "id": "e49a2519",
   "metadata": {},
   "outputs": [],
   "source": [
    "df2 = pd.DataFrame({\"Product\": [\"A\", \"B\"], \"Sales\": [50, 120]})\n",
    "df2"
   ]
  },
  {
   "cell_type": "markdown",
   "id": "7e1fe9bb",
   "metadata": {},
   "source": [
    "### やってみよう"
   ]
  },
  {
   "cell_type": "code",
   "execution_count": null,
   "id": "db706aec",
   "metadata": {},
   "outputs": [],
   "source": []
  },
  {
   "cell_type": "markdown",
   "id": "b47221ce",
   "metadata": {},
   "source": [
    "---"
   ]
  },
  {
   "cell_type": "markdown",
   "id": "e9ec4007",
   "metadata": {},
   "source": [
    "## 5.2 別のDataFrameの列を結合するには"
   ]
  },
  {
   "cell_type": "code",
   "execution_count": null,
   "id": "00d8ac5b",
   "metadata": {},
   "outputs": [],
   "source": [
    "df = pd.DataFrame(\n",
    "    [\n",
    "        [\"Alice\", \"国語\", 87],\n",
    "        [\"Alice\", \"数学\", 72],\n",
    "        [\"Bob\", \"国語\", 65],\n",
    "        [\"Bob\", \"数学\", 92],\n",
    "    ],\n",
    "    columns=[\"Name\", \"Subject\", \"Point\"],\n",
    ")\n",
    "df"
   ]
  },
  {
   "cell_type": "code",
   "execution_count": null,
   "id": "3b1c4126",
   "metadata": {},
   "outputs": [],
   "source": [
    "df_class = pd.DataFrame(\n",
    "    [[\"Alice\", \"1-A\"], [\"Bob\", \"1-B\"], [\"Carrol\", \"1-C\"]],\n",
    "    columns=[\"Name\", \"Class\"],\n",
    ")\n",
    "df_class"
   ]
  },
  {
   "cell_type": "markdown",
   "id": "ae5ebf6a",
   "metadata": {},
   "source": [
    "### やってみよう"
   ]
  },
  {
   "cell_type": "code",
   "execution_count": null,
   "id": "c5c53a23",
   "metadata": {},
   "outputs": [],
   "source": []
  },
  {
   "cell_type": "markdown",
   "id": "cd46dd62",
   "metadata": {},
   "source": [
    "---"
   ]
  },
  {
   "cell_type": "markdown",
   "id": "2972b312",
   "metadata": {},
   "source": [
    "## 5.3 ロング形式からワイド形式に変換するには"
   ]
  },
  {
   "cell_type": "code",
   "execution_count": null,
   "id": "b22c3938",
   "metadata": {},
   "outputs": [],
   "source": [
    "df = pd.DataFrame(\n",
    "    [\n",
    "        [\"Alice\", \"国語\", 87],\n",
    "        [\"Alice\", \"数学\", 72],\n",
    "        [\"Bob\", \"国語\", 65],\n",
    "        [\"Bob\", \"数学\", 92],\n",
    "    ],\n",
    "    columns=[\"Name\", \"Subject\", \"Point\"],\n",
    ")\n",
    "df"
   ]
  },
  {
   "cell_type": "markdown",
   "id": "31f4aca2",
   "metadata": {},
   "source": [
    "### やってみよう"
   ]
  },
  {
   "cell_type": "code",
   "execution_count": null,
   "id": "a7c209ab",
   "metadata": {},
   "outputs": [],
   "source": []
  },
  {
   "cell_type": "markdown",
   "id": "0eca4c5e",
   "metadata": {},
   "source": [
    "---"
   ]
  },
  {
   "cell_type": "markdown",
   "id": "d3f88805",
   "metadata": {},
   "source": [
    "## 5.4 ワイド形式からロング形式に変換するには"
   ]
  },
  {
   "cell_type": "code",
   "execution_count": null,
   "id": "b01313e7",
   "metadata": {},
   "outputs": [],
   "source": [
    "index = pd.Index([\"Alice\", \"Bob\"], name=\"Name\")\n",
    "columns = pd.Index([\"国語\", \"数学\"], name=\"Subject\")\n",
    "data = [[87, 72], [65, 92]]\n",
    "df = pd.DataFrame(data, index=index, columns=columns)\n",
    "df"
   ]
  },
  {
   "cell_type": "markdown",
   "id": "181626ab",
   "metadata": {},
   "source": [
    "### やってみよう"
   ]
  },
  {
   "cell_type": "code",
   "execution_count": null,
   "id": "45046476",
   "metadata": {},
   "outputs": [],
   "source": []
  },
  {
   "cell_type": "markdown",
   "id": "82723f8b",
   "metadata": {},
   "source": [
    "---"
   ]
  },
  {
   "cell_type": "markdown",
   "id": "c951f264",
   "metadata": {},
   "source": [
    "## 5.5 クロス集計するには"
   ]
  },
  {
   "cell_type": "code",
   "execution_count": null,
   "id": "12524e31",
   "metadata": {},
   "outputs": [],
   "source": [
    "rnd = np.random.default_rng(2)\n",
    "data1 = rnd.choice([\"1-A\", \"1-B\"], 60)\n",
    "data2 = rnd.choice([\"Science\", \"Social\", \"Sport\"], 60)\n",
    "df = pd.DataFrame({\"Class\": data1, \"Club\": data2})\n",
    "df"
   ]
  },
  {
   "cell_type": "markdown",
   "id": "6e08d4ef",
   "metadata": {},
   "source": [
    "### やってみよう"
   ]
  },
  {
   "cell_type": "code",
   "execution_count": null,
   "id": "b115b65b",
   "metadata": {},
   "outputs": [],
   "source": []
  },
  {
   "cell_type": "markdown",
   "id": "9d4ccfb9",
   "metadata": {},
   "source": [
    "---"
   ]
  },
  {
   "cell_type": "markdown",
   "id": "fb32fdd8",
   "metadata": {},
   "source": [
    "## 5.6 区切り文字で列を複数列に分解するには"
   ]
  },
  {
   "cell_type": "code",
   "execution_count": null,
   "id": "26d3ec95",
   "metadata": {},
   "outputs": [],
   "source": [
    "df = pd.DataFrame(\n",
    "    {\"国\": [\"日本\", \"フランス\"], \"都市\": [\"東京/大阪\", \"パリ\"]}\n",
    ")\n",
    "df"
   ]
  },
  {
   "cell_type": "markdown",
   "id": "ebbe3150",
   "metadata": {},
   "source": [
    "### やってみよう"
   ]
  },
  {
   "cell_type": "code",
   "execution_count": null,
   "id": "533edd39",
   "metadata": {},
   "outputs": [],
   "source": []
  },
  {
   "cell_type": "markdown",
   "id": "58d73474",
   "metadata": {},
   "source": [
    "---"
   ]
  },
  {
   "cell_type": "markdown",
   "id": "7311198a",
   "metadata": {},
   "source": [
    "## 5.7 区切り文字で列を複数行に分解するには"
   ]
  },
  {
   "cell_type": "code",
   "execution_count": null,
   "id": "9ed52e90",
   "metadata": {},
   "outputs": [],
   "source": [
    "df = pd.DataFrame(\n",
    "    {\"国\": [\"日本\", \"フランス\"], \"都市\": [\"東京/大阪\", \"パリ\"]}\n",
    ")\n",
    "df"
   ]
  },
  {
   "cell_type": "markdown",
   "id": "4de7744b",
   "metadata": {},
   "source": [
    "### やってみよう"
   ]
  },
  {
   "cell_type": "code",
   "execution_count": null,
   "id": "7d0dd38d",
   "metadata": {},
   "outputs": [],
   "source": []
  }
 ],
 "metadata": {
  "kernelspec": {
   "display_name": "Python 3 (ipykernel)",
   "language": "python",
   "name": "python3"
  },
  "language_info": {
   "codemirror_mode": {
    "name": "ipython",
    "version": 3
   },
   "file_extension": ".py",
   "mimetype": "text/x-python",
   "name": "python",
   "nbconvert_exporter": "python",
   "pygments_lexer": "ipython3",
   "version": "3.9.7"
  }
 },
 "nbformat": 4,
 "nbformat_minor": 5
}
