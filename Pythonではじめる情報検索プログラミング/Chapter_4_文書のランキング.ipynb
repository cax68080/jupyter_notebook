{
 "cells": [
  {
   "cell_type": "markdown",
   "id": "aae7d9ed",
   "metadata": {},
   "source": [
    "# Chapter 4 文書のランキング"
   ]
  },
  {
   "cell_type": "markdown",
   "id": "9ff58f11",
   "metadata": {},
   "source": [
    "## 4.1 特徴語集合の類似性"
   ]
  },
  {
   "cell_type": "code",
   "execution_count": 37,
   "id": "52691f43",
   "metadata": {},
   "outputs": [],
   "source": [
    "#import chapter3_func as c3f\n",
    "from gensim import corpora \n",
    "from gensim import models"
   ]
  },
  {
   "cell_type": "code",
   "execution_count": 4,
   "id": "8a94fee1",
   "metadata": {},
   "outputs": [],
   "source": [
    "#!pip install gensim\n",
    "#!pip install janome"
   ]
  },
  {
   "cell_type": "code",
   "execution_count": 19,
   "id": "4acf2f77",
   "metadata": {},
   "outputs": [],
   "source": [
    "#jaccard関数\n",
    "\n",
    "#X,Yはiterative\n",
    "def jaccard(X,Y):\n",
    "    x = set(X)\n",
    "    y = set(Y)\n",
    "    a = len(x.intersection(y))\n",
    "    b = len(x.union(y))\n",
    "    if b == 0:\n",
    "        return 0\n",
    "    else:\n",
    "        return a / b"
   ]
  },
  {
   "cell_type": "code",
   "execution_count": 26,
   "id": "b1bc182a",
   "metadata": {},
   "outputs": [],
   "source": [
    "def load_dictionary_and_corpus(dic_files,corpus_file):\n",
    "    dic = corpora.Dictionary.load(dic_files)\n",
    "    bows = list(corpora.MmCorpus(corpus_file))\n",
    "    if not hasattr(dic,'cfs'):\n",
    "        dic.cfs = c3f.bows_to_cfs(bows)\n",
    "    return dic,bows"
   ]
  },
  {
   "cell_type": "code",
   "execution_count": 34,
   "id": "765a0f9b",
   "metadata": {},
   "outputs": [],
   "source": [
    "from gensim import corpora\n",
    "\n",
    "#get_tfidfmodel_and_weights関数\n",
    "def translate_bows(bows,table):\n",
    "    return [[tuple([table[j[0]],j[1]]) for j in i if j[0] in table] for i in bows]\n",
    "\n",
    "def get_tfidfmodel_and_weights(texts,use_aozora=True,pos=['名詞']):\n",
    "    if use_aozora:\n",
    "        dic,bows = load_aozora_corpus()\n",
    "    else:\n",
    "        dic = corpora.Dictionary()\n",
    "        bows = []\n",
    "    text_docs = [get_words(text,keep_pos=pos) for text in texts]\n",
    "    text_bows = [dic.doc2bow(d,allow_update=True) for d in text_docs]\n",
    "    bows.extend(text_bows)\n",
    "    \n",
    "    # textsに現れる語のidとtoken(表層形)のリストを作成\n",
    "    text_ids = list(set([text_bows[i][j][0] for i in range(len(text_bows)) for j in range(len(text_bows[i]))]))\n",
    "    text_tokens = [dic[i] for i in text_ids]\n",
    "    \n",
    "    # text_bowsにない語を削除\n",
    "    dic.filter_tokens(good_ids=text_ids)\n",
    "    # 削除前後のID対応付け\n",
    "    # Y = id2id[X]として古いid Xから新しいid Yが得られるようになる。\n",
    "    id2id = dict()\n",
    "    for i in range(len(text_ids)):\n",
    "        id2id[text_ids[i]] = dic.token2id[text_tokens[i]]\n",
    "        \n",
    "    # 語のIDが振り直されたのにあわせてbowを変換\n",
    "    bows = translate_bows(bows,id2id)\n",
    "    text_bows = translate_bows(text_bows,id2id)\n",
    "    \n",
    "    # TF・IDFモデルを作成\n",
    "    tfidf_model = models.TfidfModel(bows,normalize=True)\n",
    "    # モデルに基づいて重みを計算\n",
    "    text_weights = get_weights(text_bows,dic,tfidf_model)\n",
    "    \n",
    "    return tfidf_model,dic,text_weights\n"
   ]
  },
  {
   "cell_type": "code",
   "execution_count": 35,
   "id": "1eb2ac50",
   "metadata": {},
   "outputs": [],
   "source": [
    "# get_words関数\n",
    "from janome.analyzer import Analyzer\n",
    "from janome.tokenfilter import ExtractAttributeFilter\n",
    "from janome.tokenfilter import POSStopFilter\n",
    "from janome.tokenfilter import POSKeepFilter\n",
    "\n",
    "def get_words(string,keep_pos=None):\n",
    "    filters = []\n",
    "    if keep_pos is None:\n",
    "        filters.append(POSStopFilter(['記号'])) #記号を除外\n",
    "    else:\n",
    "        filters.append(POSKeepFilter(keep_pos)) #指定品詞を抽出\n",
    "    filters.append(ExtractAttributeFilter('surface'))\n",
    "    a = Analyzer(token_filters=filters) #後処理を指定\n",
    "    return list(a.analyze(string))\n"
   ]
  },
  {
   "cell_type": "code",
   "execution_count": 39,
   "id": "726465a3",
   "metadata": {},
   "outputs": [],
   "source": [
    "def get_weights(bows,dic,tfidf_model,surface=False,N=1000):\n",
    "    # TF・IDFを計算\n",
    "    weights = tfidf_model[bows]\n",
    "    # TF・IDFの値を基準に降順にソート、最大でN個を抽出\n",
    "    weights = [sorted(w,key=lambda x:x[1],reverse=True)[:N] for w in weights]\n",
    "    if surface:\n",
    "        return [[(dic[x[0]],x[1]) for x in w] for w in weights]\n",
    "    else:\n",
    "        return weights"
   ]
  },
  {
   "cell_type": "code",
   "execution_count": 42,
   "id": "2f767b16",
   "metadata": {},
   "outputs": [],
   "source": [
    "# TF・IDFの計算\n",
    "from gensim import models\n",
    "\n",
    "# コーパス作成のための関数\n",
    "def load_aozora_corpus():\n",
    "    return load_dictionary_and_corpus('./irpb-files/data/aozora/aozora.dic','./irpb-files/data/aozora/aozora.mm')\n",
    "\n",
    "def get_bows(texts,dic,allow_update=False):\n",
    "    bows = []\n",
    "    for text in texts:\n",
    "        words = get_words(text,keep_pos=['名詞'])\n",
    "        bow = dic.doc2bow(words,allow_update=allow_update)\n",
    "        bows.append(bow)\n",
    "    return bows\n"
   ]
  },
  {
   "cell_type": "code",
   "execution_count": 50,
   "id": "e25ad5ae",
   "metadata": {},
   "outputs": [
    {
     "name": "stdout",
     "output_type": "stream",
     "text": [
      "ブラックホールと時空の方程式 0.1111\n",
      "逆数学 0.1111\n",
      "64の事例からわかる金属腐食の対策 0.0526\n",
      "Coq/SSReflect/MathCompによる定理証明 0.0526\n",
      "基礎からわかる高分子材料 0.0000\n",
      "ゼロからはじめるVisual_C#入門 0.0000\n",
      "実践_地域・まちづくりワーク 0.0000\n",
      "応用数学問題集 0.0000\n",
      "生態系生態学(第2版) 0.0000\n"
     ]
    }
   ],
   "source": [
    "# ランキングの計算\n",
    "\n",
    "#from gensim import corpora\n",
    "\n",
    "# 紹介文を読み込む。i番目の書籍の紹介文はtexts[i]\n",
    "book_texts = [c3f.get_string_from_file('irpb-files/data/ch04/%d.txt' % i) for i in range(10)]\n",
    "\n",
    "# 各紹介分の語の重みを計算する\n",
    "# 補助的なコーパスとして青空文庫を利用する\n",
    "tfidf_model,dic,book_weights = get_tfidfmodel_and_weights(book_texts)\n",
    "\n",
    "# 書籍ごとに上位10の特徴語(のID)のリストを作成\n",
    "# book_weightsにはIDとTF・IDFの値が組になっている\n",
    "# そこからIDだけをぬきだす\n",
    "keyword_lists = [[x[0] for x in w[:10]] for w in book_weights]\n",
    "#print(keyword_lists)\n",
    "\n",
    "# resultsの要素は(i,i番目の書籍との類似度)\n",
    "# 「定理のつくりかた」の番号は9(9.txt)\n",
    "results = [(x,jaccard(keyword_lists[9],keyword_lists[x])) for x in range(9)]\n",
    "#print(results)\n",
    "\n",
    "# 類似度で降順にソート\n",
    "results.sort(key=lambda x: x[1],reverse=True)\n",
    "\n",
    "# 書籍のタイトルを読み込む。i番目の書籍のタイトルはtitles[i]\n",
    "with open('irpb-files/data/ch04/book-titles.txt',encoding='UTF-8') as f:\n",
    "    titles = f.read().strip().split('\\n')\n",
    "    \n",
    "# ランキング結果を表示\n",
    "for x in range(9):\n",
    "    print('%s %.4f' % (titles[results[x][0]],results[x][1]))\n",
    "    "
   ]
  },
  {
   "cell_type": "markdown",
   "id": "2a3f53d9",
   "metadata": {},
   "source": [
    "## 4.2 ベクトル空間モデル"
   ]
  },
  {
   "cell_type": "code",
   "execution_count": 59,
   "id": "cbeced02",
   "metadata": {},
   "outputs": [],
   "source": [
    "# エンコーディングに応じて適切に読み込むget_string_from_file関数\n",
    "import chardet\n",
    "\n",
    "def get_string_from_file(filename):\n",
    "    with open(filename,'rb') as f:\n",
    "        d = f.read()\n",
    "        e = chardet.detect(d)['encoding']\n",
    "        # 推定できなかったときはUTF-8を設定する\n",
    "        if e == None:\n",
    "            e = 'UTF-8'\n",
    "        return d.decode(e)"
   ]
  },
  {
   "cell_type": "code",
   "execution_count": 56,
   "id": "def2b025",
   "metadata": {},
   "outputs": [
    {
     "name": "stdout",
     "output_type": "stream",
     "text": [
      "dic[0] = 団子\n",
      "dic[1] = 花\n",
      "dic[2] = あんこ\n",
      "dic[3] = みたらし\n",
      "dic[4] = 木\n",
      "dic[5] = 猿\n",
      "dic[6] = きなこ\n",
      "dic[7] = 甲乙\n",
      "weights =  [(2, 0.3333), (6, 0.6667), (7, 0.6667)]\n"
     ]
    }
   ],
   "source": [
    "# 語の重みの計算\n",
    "from gensim import corpora,models\n",
    "\n",
    "texts = ['花より団子。とにかく団子','みたらしよりあんこ','猿も木から落ちる','あんこときなこは甲乙つけがたい']\n",
    "words = [get_words(text,keep_pos=['名詞']) for text in texts]\n",
    "dic = corpora.Dictionary(words)\n",
    "\n",
    "# 辞書の中身を列挙\n",
    "for i in range(len(dic)):\n",
    "    print('dic[%d] = %s' % (i,dic[i]))\n",
    "    \n",
    "bows = [dic.doc2bow(w) for w in words]\n",
    "tfidf = models.TfidfModel(bows)\n",
    "\n",
    "# 1番目の文書の語とその重みを取得する。\n",
    "weights = tfidf[bows[3]]\n",
    "\n",
    "# 小数点以下４位より下のけたを丸める\n",
    "weights = [(i,round(j,4)) for i,j in weights]\n",
    "\n",
    "# １番目の文書の語とその重みを表示する\n",
    "print('weights = ',weights)"
   ]
  },
  {
   "cell_type": "code",
   "execution_count": 57,
   "id": "c2bd50cb",
   "metadata": {},
   "outputs": [],
   "source": [
    "# vsm_search関数\n",
    "from gensim.similarities import MatrixSimilarity\n",
    "\n",
    "def vsm_search(texts,query):\n",
    "    tfidf_model,dic,text_weights = get_tfidfmodel_and_weights(texts)\n",
    "    \n",
    "    index = MatrixSimilarity(text_weights,num_features=len(dic))\n",
    "    \n",
    "    # queryのbag-of-wordsを作成し、重みを計算する\n",
    "    query_bows = get_bows([query],dic)\n",
    "    query_weights = get_weights(query_bows,dic,tfidf_model)\n",
    "    \n",
    "    # 類似度計算\n",
    "    sims = index[query_weights[0]]\n",
    "    \n",
    "    # 類似度で降順にソート\n",
    "    return sorted(enumerate(sims),key=lambda x: x[1],reverse=True)\n",
    "\n",
    "# ファイルに保存されているリストを読みだす\n",
    "def get_list_from_file(file_name):\n",
    "    with open(file_name,'r',encoding='UTF-8') as f:\n",
    "        return f.read().split()\n"
   ]
  },
  {
   "cell_type": "code",
   "execution_count": 61,
   "id": "082e5a00",
   "metadata": {},
   "outputs": [
    {
     "name": "stdout",
     "output_type": "stream",
     "text": [
      "逆数学 0.4204\n",
      "ブラックホールと時空の方程式 0.2737\n",
      "Coq/SSReflect/MathCompによる定理証明 0.1746\n",
      "応用数学問題集 0.1195\n",
      "64の事例からわかる金属腐食の対策 0.0660\n",
      "実践_地域・まちづくりワーク 0.0381\n",
      "ゼロからはじめるVisual_C#入門 0.0262\n",
      "生態系生態学(第2版) 0.0259\n",
      "基礎からわかる高分子材料 0.0243\n"
     ]
    }
   ],
   "source": [
    "# vsm_searchによるランキング\n",
    "\n",
    "# 書籍紹介文のデータを読み込む\n",
    "book_texts = [get_string_from_file('irpb-files/data/ch04/%d.txt' % i) for i in range(10)]\n",
    "\n",
    "# 書籍のタイトルを読み込む\n",
    "titles = get_list_from_file('irpb-files/data/ch04/book-titles.txt')\n",
    "\n",
    "# 類似度の計算とランキング\n",
    "# book_texts[9]は「定理のつくりかた」 book_text[:-1]はそれ以外\n",
    "result = vsm_search(book_texts[:-1],book_texts[9])\n",
    "\n",
    "# 文書番号をタイトルに変換して出力\n",
    "for x in range(9):\n",
    "    print('%s %.4f' % (titles[result[x][0]],result[x][1]))\n",
    "    "
   ]
  },
  {
   "cell_type": "code",
   "execution_count": 62,
   "id": "c5d829a4",
   "metadata": {},
   "outputs": [
    {
     "name": "stdout",
     "output_type": "stream",
     "text": [
      "定理のつくりかた 0.6793\n",
      "逆数学 0.4038\n",
      "ブラックホールと時空の方程式 0.2001\n",
      "Coq/SSReflect/MathCompによる定理証明 0.1457\n",
      "応用数学問題集 0.0807\n",
      "64の事例からわかる金属腐食の対策 0.0000\n",
      "基礎からわかる高分子材料 0.0000\n",
      "ゼロからはじめるVisual_C#入門 0.0000\n",
      "実践_地域・まちづくりワーク 0.0000\n",
      "生態系生態学(第2版) 0.0000\n"
     ]
    }
   ],
   "source": [
    "# ベクトル空間モデルに基づく検索\n",
    "\n",
    "texts =  [get_string_from_file('irpb-files/data/ch04/%d.txt' % i) for i in range(10)]\n",
    "titles = get_list_from_file('irpb-files/data/ch04/book-titles.txt')\n",
    "query = '数学'\n",
    "result = vsm_search(texts,query)\n",
    "for x in range(len(result)):\n",
    "    print('%s %.4f' % (titles[result[x][0]],result[x][1]))"
   ]
  },
  {
   "cell_type": "code",
   "execution_count": null,
   "id": "e9a9dd69",
   "metadata": {},
   "outputs": [],
   "source": []
  }
 ],
 "metadata": {
  "kernelspec": {
   "display_name": "Python 3 (ipykernel)",
   "language": "python",
   "name": "python3"
  },
  "language_info": {
   "codemirror_mode": {
    "name": "ipython",
    "version": 3
   },
   "file_extension": ".py",
   "mimetype": "text/x-python",
   "name": "python",
   "nbconvert_exporter": "python",
   "pygments_lexer": "ipython3",
   "version": "3.9.7"
  }
 },
 "nbformat": 4,
 "nbformat_minor": 5
}
