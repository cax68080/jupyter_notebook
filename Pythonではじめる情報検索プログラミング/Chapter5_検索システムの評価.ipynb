{
 "cells": [
  {
   "cell_type": "markdown",
   "id": "2f6ea86c",
   "metadata": {},
   "source": [
    "# Chapter 5 検索システムの評価"
   ]
  },
  {
   "cell_type": "markdown",
   "id": "ab3adba7",
   "metadata": {},
   "source": [
    "## 5.1 適合率と再現率"
   ]
  },
  {
   "cell_type": "code",
   "execution_count": 4,
   "id": "0c421309",
   "metadata": {},
   "outputs": [],
   "source": [
    "right_answer = [0,1,0,1,0,1,0,0,1,1]"
   ]
  },
  {
   "cell_type": "code",
   "execution_count": 5,
   "id": "91e02ece",
   "metadata": {},
   "outputs": [],
   "source": [
    "# エンコーディングに応じて適切に読み込むget_string_from_file関数\n",
    "import chardet\n",
    "\n",
    "def get_string_from_file(filename):\n",
    "    with open(filename,'rb') as f:\n",
    "        d = f.read()\n",
    "        e = chardet.detect(d)['encoding']\n",
    "        # 推定できなかったときはUTF-8を設定する\n",
    "        if e == None:\n",
    "            e = 'UTF-8'\n",
    "        return d.decode(e)"
   ]
  },
  {
   "cell_type": "code",
   "execution_count": 6,
   "id": "c8719057",
   "metadata": {},
   "outputs": [],
   "source": [
    "# get_words関数\n",
    "from janome.analyzer import Analyzer\n",
    "from janome.tokenfilter import ExtractAttributeFilter\n",
    "from janome.tokenfilter import POSStopFilter\n",
    "from janome.tokenfilter import POSKeepFilter\n",
    "\n",
    "def get_words(string,keep_pos=None):\n",
    "    filters = []\n",
    "    if keep_pos is None:\n",
    "        filters.append(POSStopFilter(['記号'])) #記号を除外\n",
    "    else:\n",
    "        filters.append(POSKeepFilter(keep_pos)) #指定品詞を抽出\n",
    "    filters.append(ExtractAttributeFilter('surface'))\n",
    "    a = Analyzer(token_filters=filters) #後処理を指定\n",
    "    return list(a.analyze(string))\n"
   ]
  },
  {
   "cell_type": "code",
   "execution_count": 7,
   "id": "ecb680ad",
   "metadata": {},
   "outputs": [],
   "source": [
    "from gensim import corpora\n",
    "\n",
    "#get_tfidfmodel_and_weights関数\n",
    "def translate_bows(bows,table):\n",
    "    return [[tuple([table[j[0]],j[1]]) for j in i if j[0] in table] for i in bows]\n",
    "\n",
    "def get_tfidfmodel_and_weights(texts,use_aozora=True,pos=['名詞']):\n",
    "    if use_aozora:\n",
    "        dic,bows = load_aozora_corpus()\n",
    "    else:\n",
    "        dic = corpora.Dictionary()\n",
    "        bows = []\n",
    "    text_docs = [get_words(text,keep_pos=pos) for text in texts]\n",
    "    text_bows = [dic.doc2bow(d,allow_update=True) for d in text_docs]\n",
    "    bows.extend(text_bows)\n",
    "    \n",
    "    # textsに現れる語のidとtoken(表層形)のリストを作成\n",
    "    text_ids = list(set([text_bows[i][j][0] for i in range(len(text_bows)) for j in range(len(text_bows[i]))]))\n",
    "    text_tokens = [dic[i] for i in text_ids]\n",
    "    \n",
    "    # text_bowsにない語を削除\n",
    "    dic.filter_tokens(good_ids=text_ids)\n",
    "    # 削除前後のID対応付け\n",
    "    # Y = id2id[X]として古いid Xから新しいid Yが得られるようになる。\n",
    "    id2id = dict()\n",
    "    for i in range(len(text_ids)):\n",
    "        id2id[text_ids[i]] = dic.token2id[text_tokens[i]]\n",
    "        \n",
    "    # 語のIDが振り直されたのにあわせてbowを変換\n",
    "    bows = translate_bows(bows,id2id)\n",
    "    text_bows = translate_bows(text_bows,id2id)\n",
    "    \n",
    "    # TF・IDFモデルを作成\n",
    "    tfidf_model = models.TfidfModel(bows,normalize=True)\n",
    "    # モデルに基づいて重みを計算\n",
    "    text_weights = get_weights(text_bows,dic,tfidf_model)\n",
    "    \n",
    "    return tfidf_model,dic,text_weights\n"
   ]
  },
  {
   "cell_type": "code",
   "execution_count": 8,
   "id": "c1245906",
   "metadata": {},
   "outputs": [],
   "source": [
    "# TF・IDFの計算\n",
    "from gensim import models\n",
    "\n",
    "# コーパス作成のための関数\n",
    "def load_aozora_corpus():\n",
    "    return load_dictionary_and_corpus('./irpb-files/data/aozora/aozora.dic','./irpb-files/data/aozora/aozora.mm')\n",
    "\n",
    "def get_bows(texts,dic,allow_update=False):\n",
    "    bows = []\n",
    "    for text in texts:\n",
    "        words = get_words(text,keep_pos=['名詞'])\n",
    "        bow = dic.doc2bow(words,allow_update=allow_update)\n",
    "        bows.append(bow)\n",
    "    return bows\n"
   ]
  },
  {
   "cell_type": "code",
   "execution_count": 9,
   "id": "3580dca4",
   "metadata": {},
   "outputs": [],
   "source": [
    "def get_weights(bows,dic,tfidf_model,surface=False,N=1000):\n",
    "    # TF・IDFを計算\n",
    "    weights = tfidf_model[bows]\n",
    "    # TF・IDFの値を基準に降順にソート、最大でN個を抽出\n",
    "    weights = [sorted(w,key=lambda x:x[1],reverse=True)[:N] for w in weights]\n",
    "    if surface:\n",
    "        return [[(dic[x[0]],x[1]) for x in w] for w in weights]\n",
    "    else:\n",
    "        return weights"
   ]
  },
  {
   "cell_type": "code",
   "execution_count": 10,
   "id": "b35c3223",
   "metadata": {},
   "outputs": [],
   "source": [
    "# vsm_search関数\n",
    "from gensim.similarities import MatrixSimilarity\n",
    "\n",
    "def vsm_search(texts,query):\n",
    "    tfidf_model,dic,text_weights = get_tfidfmodel_and_weights(texts)\n",
    "    \n",
    "    index = MatrixSimilarity(text_weights,num_features=len(dic))\n",
    "    \n",
    "    # queryのbag-of-wordsを作成し、重みを計算する\n",
    "    query_bows = get_bows([query],dic)\n",
    "    query_weights = get_weights(query_bows,dic,tfidf_model)\n",
    "    \n",
    "    # 類似度計算\n",
    "    sims = index[query_weights[0]]\n",
    "    \n",
    "    # 類似度で降順にソート\n",
    "    return sorted(enumerate(sims),key=lambda x: x[1],reverse=True)\n",
    "\n",
    "# ファイルに保存されているリストを読みだす\n",
    "def get_list_from_file(file_name):\n",
    "    with open(file_name,'r',encoding='UTF-8') as f:\n",
    "        return f.read().split()\n"
   ]
  },
  {
   "cell_type": "code",
   "execution_count": 11,
   "id": "18e0d2fd",
   "metadata": {},
   "outputs": [],
   "source": [
    "# 辞書とコーパスを読み込むload_dictionary_and_corpus関数\n",
    "def bows_to_cfs(bows):\n",
    "    cfs = dict()\n",
    "    for b in bows:\n",
    "        for id,f in b:\n",
    "            if not id in cfs:\n",
    "                cfs[id] = 0\n",
    "            cfs[id] += int(f)\n",
    "    return cfs\n",
    "\n",
    "def load_dictionary_and_corpus(dic_files,corpus_file):\n",
    "    dic = corpora.Dictionary.load(dic_files)\n",
    "    bows = list(corpora.MmCorpus(corpus_file))\n",
    "    if not hasattr(dic,'cfs'):\n",
    "        dic.cfs = bows_to_cfs(bows)\n",
    "    return dic,bows"
   ]
  },
  {
   "cell_type": "code",
   "execution_count": 12,
   "id": "916fe9c2",
   "metadata": {},
   "outputs": [
    {
     "name": "stdout",
     "output_type": "stream",
     "text": [
      "[(1, 0.7481151),\n",
      " (8, 0.6076249),\n",
      " (5, 0.31722325),\n",
      " (0, 0.21160641),\n",
      " (2, 0.18004589),\n",
      " (3, 0.0),\n",
      " (4, 0.0),\n",
      " (6, 0.0),\n",
      " (7, 0.0),\n",
      " (9, 0.0)]\n"
     ]
    }
   ],
   "source": [
    "# \n",
    "from pprint import pprint\n",
    "\n",
    "# 書籍紹介文のデータを読み込む\n",
    "book_texts = [get_string_from_file('./irpb-files/data/ch05/%d.txt' % i) for i in range(10)]\n",
    "query = '人工知能'\n",
    "\n",
    "result = vsm_search(book_texts,query)\n",
    "pprint(result)"
   ]
  },
  {
   "cell_type": "code",
   "execution_count": 13,
   "id": "e9e55cb1",
   "metadata": {},
   "outputs": [],
   "source": [
    "# select_by_threshold関数\n",
    "def select_by_threshold(r,threshold=0.0):\n",
    "    # rの長さ分の0を要素とするリストを作成\n",
    "    answer = [0]*len(r)\n",
    "    for i in r:\n",
    "        # 類似度がthresholdより大きいときr[文書番号]を1にする\n",
    "        if i[1] > threshold: answer[i[0]] = 1\n",
    "    return answer"
   ]
  },
  {
   "cell_type": "code",
   "execution_count": 14,
   "id": "21a58bc5",
   "metadata": {},
   "outputs": [
    {
     "name": "stdout",
     "output_type": "stream",
     "text": [
      "right_answer = [0, 1, 0, 1, 0, 1, 0, 0, 1, 1]\n",
      "my_answer = [1, 1, 1, 0, 0, 1, 0, 0, 1, 0]\n"
     ]
    }
   ],
   "source": [
    "# 正解とvsm_searchの検索結果\n",
    "# デフォルト値0.0を閾値として採否を判断\n",
    "my_answer = select_by_threshold(result,threshold=0)\n",
    "# 正解と並べて表示\n",
    "print('right_answer = {}'.format(right_answer))\n",
    "print('my_answer = {}'.format(my_answer))\n"
   ]
  },
  {
   "cell_type": "code",
   "execution_count": 16,
   "id": "a7bb5eb6",
   "metadata": {},
   "outputs": [],
   "source": [
    "# pront_scores関数\n",
    "from sklearn.metrics import precision_score,recall_score,f1_score\n",
    "\n",
    "def print_scores(right_answer,my_answer):\n",
    "    print('precision %.4f' % precision_score(right_answer,my_answer))\n",
    "    print('recall    %.4f' % recall_score(right_answer,my_answer))\n",
    "    print('f-measure %.4f' % f1_score(right_answer,my_answer))"
   ]
  },
  {
   "cell_type": "code",
   "execution_count": 17,
   "id": "5bc377be",
   "metadata": {},
   "outputs": [
    {
     "name": "stdout",
     "output_type": "stream",
     "text": [
      "precision 0.6000\n",
      "recall    0.6000\n",
      "f-measure 0.6000\n"
     ]
    }
   ],
   "source": [
    "print_scores(right_answer,my_answer)"
   ]
  },
  {
   "cell_type": "code",
   "execution_count": 18,
   "id": "03396b46",
   "metadata": {},
   "outputs": [
    {
     "name": "stdout",
     "output_type": "stream",
     "text": [
      "my_answer = [0, 1, 0, 0, 0, 1, 0, 0, 1, 0]\n",
      "precision 1.0000\n",
      "recall    0.6000\n",
      "f-measure 0.7500\n"
     ]
    }
   ],
   "source": [
    "# 適合率、再現率、F値の計算(閾値0.3の場合)\n",
    "my_answer = select_by_threshold(result,threshold=0.3)\n",
    "print('my_answer = {}'.format(my_answer))\n",
    "print_scores(right_answer,my_answer)"
   ]
  },
  {
   "cell_type": "code",
   "execution_count": 19,
   "id": "5f402762",
   "metadata": {},
   "outputs": [
    {
     "name": "stdout",
     "output_type": "stream",
     "text": [
      "['人工', '知能']\n"
     ]
    }
   ],
   "source": [
    "#「人工知能」の分かち書き\n",
    "print(get_words('人工知能'))"
   ]
  },
  {
   "cell_type": "markdown",
   "id": "f6231783",
   "metadata": {},
   "source": [
    "## 5.2 適合率－再現率曲線"
   ]
  },
  {
   "cell_type": "code",
   "execution_count": 20,
   "id": "444289ea",
   "metadata": {},
   "outputs": [
    {
     "name": "stdout",
     "output_type": "stream",
     "text": [
      "(1, 8, 5, 0, 2, 3, 4, 6, 7, 9)\n"
     ]
    }
   ],
   "source": [
    "# ランキング情報の抜き出し\n",
    "my_ranking = tuple([x[0] for x in result])\n",
    "print(my_ranking)"
   ]
  },
  {
   "cell_type": "code",
   "execution_count": 21,
   "id": "8d649e63",
   "metadata": {},
   "outputs": [
    {
     "name": "stdout",
     "output_type": "stream",
     "text": [
      "1110010001\n"
     ]
    }
   ],
   "source": [
    "# 正解の分布表示\n",
    "# str()で数値を文字列に変換し、''.join()で結合する。\n",
    "print(''.join([str(right_answer[i]) for i in my_ranking]))"
   ]
  },
  {
   "cell_type": "code",
   "execution_count": 23,
   "id": "c14bb90f",
   "metadata": {},
   "outputs": [
    {
     "name": "stdout",
     "output_type": "stream",
     "text": [
      "(1, 3, 5, 8, 9, 0, 2, 4, 6, 7)\n",
      "1111100000\n"
     ]
    }
   ],
   "source": [
    "# 理想的なランキング\n",
    "# クエリに適合する文書のリスト\n",
    "matching = [i for i,x in enumerate(right_answer) if x == 1]\n",
    "# 適合しない文書のリスト\n",
    "non_matching = [i for i,x in enumerate(right_answer) if x == 0]\n",
    "\n",
    "# 理想的なランキング\n",
    "good_ranking = tuple(matching + non_matching)\n",
    "print(good_ranking)\n",
    "print(''.join([str(right_answer[i]) for i in good_ranking]))\n"
   ]
  },
  {
   "cell_type": "code",
   "execution_count": 24,
   "id": "6e80aaee",
   "metadata": {},
   "outputs": [],
   "source": [
    "# top_n関数\n",
    "def top_n(r,n):\n",
    "    answer = [0]*len(r)\n",
    "    for i in range(n):\n",
    "        answer[r[i]] = 1\n",
    "    return answer"
   ]
  },
  {
   "cell_type": "code",
   "execution_count": 25,
   "id": "7ca0d54b",
   "metadata": {},
   "outputs": [
    {
     "name": "stdout",
     "output_type": "stream",
     "text": [
      "[0, 1, 0, 0, 0, 0, 0, 0, 1, 0]\n",
      "0.4\n",
      "1.0\n"
     ]
    }
   ],
   "source": [
    "# top_n(my_ranking,2)の再現率と適合率\n",
    "n = 2\n",
    "my_answer_n = top_n(my_ranking,n)\n",
    "print(my_answer_n)\n",
    "print(recall_score(right_answer,my_answer_n))\n",
    "print(precision_score(right_answer,my_answer_n))"
   ]
  },
  {
   "cell_type": "code",
   "execution_count": 26,
   "id": "8aaa33ca",
   "metadata": {},
   "outputs": [],
   "source": [
    "# get_pr_curve関数\n",
    "def get_pr_curve(ranking,answer):\n",
    "    # top_n(ranking,1)の適合率と再現率をそれぞれprecision[i]とrecall[i]へ\n",
    "    # precision[0] = 1,recall[0] = 0とする\n",
    "    precicion = [1]\n",
    "    recall = [0]\n",
    "    for i in range(1,len(ranking) + 1):\n",
    "        x = top_n(ranking,i)\n",
    "        precicion.append(precision_score(answer,x))\n",
    "        recall.append(recall_score(answer,x))\n",
    "    return precicion,recall"
   ]
  },
  {
   "cell_type": "code",
   "execution_count": 27,
   "id": "b3692014",
   "metadata": {},
   "outputs": [],
   "source": [
    "# draw_pr_curve関数\n",
    "import matplotlib.pyplot as plt\n",
    "%matplotlib inline\n",
    "\n",
    "def draw_pr_curve(ranking,answer):\n",
    "    precision,recall = get_pr_curve(ranking,answer)\n",
    "    # グラフの描画範囲を設定\n",
    "    plt.xlim(-0.05,1.05)\n",
    "    plt.ylim(0.0,1.1)\n",
    "    # 各軸のラベルを設定。x軸に再現率、y軸に適合率\n",
    "    plt.xlabel('recall')\n",
    "    plt.ylabel('precision')\n",
    "    # 曲線の下を塗りつぶす\n",
    "    plt.fill_between(recall,precision,0,facecolor='#FFFFCC')\n",
    "    # 曲線を点と線で描く\n",
    "    plt.plot(recall,precision,'o-')\n",
    "    \n",
    "    plt.show()\n",
    "    "
   ]
  },
  {
   "cell_type": "code",
   "execution_count": 28,
   "id": "8b315323",
   "metadata": {},
   "outputs": [
    {
     "data": {
      "image/png": "[encoded data removed]",
      "text/plain": [
       "<Figure size 640x480 with 1 Axes>"
      ]
     },
     "metadata": {},
     "output_type": "display_data"
    }
   ],
   "source": [
    "# 適合率-再現率曲線の描画(vsm_searchによるランキングの場合)\n",
    "draw_pr_curve(my_ranking,right_answer)"
   ]
  },
  {
   "cell_type": "code",
   "execution_count": 29,
   "id": "b85aeb38",
   "metadata": {},
   "outputs": [
    {
     "data": {
      "image/png": "[encoded data removed]",
      "text/plain": [
       "<Figure size 640x480 with 1 Axes>"
      ]
     },
     "metadata": {},
     "output_type": "display_data"
    }
   ],
   "source": [
    "# 適合率-再現率曲線の描画(理想的なランキングの場合)\n",
    "draw_pr_curve(good_ranking,right_answer)"
   ]
  },
  {
   "cell_type": "code",
   "execution_count": 30,
   "id": "6bc261e0",
   "metadata": {},
   "outputs": [],
   "source": [
    "# 平均適合率(Average Precision;AP)を計算するget_average_precision関数\n",
    "\n",
    "def get_average_precision(ranking,answer):\n",
    "    precision,recall = get_pr_curve(ranking,answer)\n",
    "    ap = 0.0\n",
    "    # (r[i - 1],0),(r[i - 1],p[i - 1]),(r[i],0),(r[i],p[i])で\n",
    "    # 囲まれる面積をそれぞれapに加算\n",
    "    for i in range(1,len(precision)):\n",
    "        ap += (recall[i] - recall[i - 1]) * (precision[i - 1] + precision[i]) / 2.0\n",
    "    return ap"
   ]
  },
  {
   "cell_type": "code",
   "execution_count": 31,
   "id": "75aaac22",
   "metadata": {},
   "outputs": [
    {
     "name": "stdout",
     "output_type": "stream",
     "text": [
      "my_ranking  0.8211\n",
      "good_ranking  1.0000\n"
     ]
    }
   ],
   "source": [
    "# 平均適合率の計算\n",
    "print('my_ranking  %.4f' % get_average_precision(my_ranking,right_answer))\n",
    "print('good_ranking  %.4f' % get_average_precision(good_ranking,right_answer))\n"
   ]
  },
  {
   "cell_type": "code",
   "execution_count": null,
   "id": "db045501",
   "metadata": {},
   "outputs": [],
   "source": []
  }
 ],
 "metadata": {
  "kernelspec": {
   "display_name": "Python 3 (ipykernel)",
   "language": "python",
   "name": "python3"
  },
  "language_info": {
   "codemirror_mode": {
    "name": "ipython",
    "version": 3
   },
   "file_extension": ".py",
   "mimetype": "text/x-python",
   "name": "python",
   "nbconvert_exporter": "python",
   "pygments_lexer": "ipython3",
   "version": "3.9.7"
  }
 },
 "nbformat": 4,
 "nbformat_minor": 5
}
