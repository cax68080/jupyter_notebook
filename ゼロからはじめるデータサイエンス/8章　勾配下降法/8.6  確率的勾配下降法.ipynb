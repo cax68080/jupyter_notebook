{
 "cells": [
  {
   "cell_type": "code",
   "execution_count": 1,
   "id": "307061fd",
   "metadata": {},
   "outputs": [],
   "source": [
    "import random"
   ]
  },
  {
   "cell_type": "code",
   "execution_count": 2,
   "id": "0bbd8006",
   "metadata": {},
   "outputs": [],
   "source": [
    "def in_random_order(data):\n",
    "    indexes = [i for i, _ in enumerate(data)]\n",
    "    random.shuffle(indexes)\n",
    "    for i in indexes:\n",
    "        yield data[:]"
   ]
  },
  {
   "cell_type": "code",
   "execution_count": 3,
   "id": "167f9e8d",
   "metadata": {},
   "outputs": [],
   "source": [
    "def minimize_stochastic(target_fn,gradient_fn,x,y,theta_0,alpha_0=0.01):\n",
    "    data = zip(x,y)\n",
    "    theta = theta_0\n",
    "    alpha = alpha_0\n",
    "    min_theta,min_value = None,float(\"inf\")\n",
    "    iterations_with_no_improvement = 0\n",
    "    while iterations_with_no_improvement < 100:\n",
    "        value = sum(target_fn(x_i,y_i,theta) for x_i,y_i in data)\n",
    "        if value < min_value:\n",
    "            min_theta,min_value = theta,value\n",
    "            iterations_with_no_improvement = 0\n",
    "            alpha = alpha_0\n",
    "        else:\n",
    "            iterations_with_no_improvement += 1\n",
    "            alpha *= 0.9\n",
    "        for x_i,y_i in in_random_order(data):\n",
    "            gradient_i = gradient_fn(x_i,y_i,theta)\n",
    "            theta = vector_subtract(theta,scalar_multiply(alpha,gradient_i))\n",
    "    return min_theta"
   ]
  },
  {
   "cell_type": "code",
   "execution_count": 4,
   "id": "d0eda2b0",
   "metadata": {},
   "outputs": [],
   "source": [
    "def maximize_stochastic(target_fn,gradient_fn,x,y,theta_0,alpha_0=0.01):\n",
    "    return minimize_stochastic(negate(target_fn),negate_all(gradient_fn),x,y,theta_0,alpha_0)"
   ]
  },
  {
   "cell_type": "code",
   "execution_count": null,
   "id": "5f6a7a3e",
   "metadata": {},
   "outputs": [],
   "source": []
  }
 ],
 "metadata": {
  "kernelspec": {
   "display_name": "Python 3 (ipykernel)",
   "language": "python",
   "name": "python3"
  },
  "language_info": {
   "codemirror_mode": {
    "name": "ipython",
    "version": 3
   },
   "file_extension": ".py",
   "mimetype": "text/x-python",
   "name": "python",
   "nbconvert_exporter": "python",
   "pygments_lexer": "ipython3",
   "version": "3.9.7"
  }
 },
 "nbformat": 4,
 "nbformat_minor": 5
}
