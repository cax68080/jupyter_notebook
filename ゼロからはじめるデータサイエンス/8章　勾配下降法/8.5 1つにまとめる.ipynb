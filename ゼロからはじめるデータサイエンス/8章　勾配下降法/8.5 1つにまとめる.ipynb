{
 "cells": [
  {
   "cell_type": "code",
   "execution_count": 3,
   "id": "9b8dcff5",
   "metadata": {},
   "outputs": [],
   "source": [
    "def safe(f):\n",
    "    def safe_f(*args,**kwargs):\n",
    "        try:\n",
    "            return f(*args,**kwargs)\n",
    "        except:\n",
    "            return float('inf')\n",
    "    return safe_f"
   ]
  },
  {
   "cell_type": "code",
   "execution_count": 2,
   "id": "3d68b0d1",
   "metadata": {},
   "outputs": [],
   "source": [
    "def step(v,direction,step_size):\n",
    "    return [v_i * step_size * direction_i for v_i,direction_i in zip(v,direction)]"
   ]
  },
  {
   "cell_type": "code",
   "execution_count": 1,
   "id": "e1444ecc",
   "metadata": {},
   "outputs": [],
   "source": [
    "def minimize_batch(target_fn,gradient_fn,theta_0,tolerance=0.000001):\n",
    "    step_sizes = [100,10,1,0.1,0.01,0.001,0.0001,0.00001]\n",
    "    theta = theta_0\n",
    "    target_fn = safe(target_fn)\n",
    "    value = target_fn(theta)\n",
    "    while True:\n",
    "        gradient = gradient_fn(theta)\n",
    "        next_thetas = [step(theta,gradient,-step_size) for step_size in step_sizes]\n",
    "        next_theta = min(next_thetas,key=target_fn)\n",
    "        next_value = target_fn(next_theta)\n",
    "        if abs(value - next_value) < tolerance:\n",
    "            return theta\n",
    "        else:\n",
    "            theta,value = next_theta,next_value"
   ]
  },
  {
   "cell_type": "code",
   "execution_count": 4,
   "id": "0b6f2eaf",
   "metadata": {},
   "outputs": [],
   "source": [
    "def negate(f):\n",
    "    return lambda *args,**kwargs: -f(*args,**kwargs)"
   ]
  },
  {
   "cell_type": "code",
   "execution_count": 5,
   "id": "f09f4be6",
   "metadata": {},
   "outputs": [],
   "source": [
    "def negate_all(f):\n",
    "    return lambda *args,**kwargs: [-y for y in f(*args,**kwargs)]"
   ]
  },
  {
   "cell_type": "code",
   "execution_count": 6,
   "id": "6b7950ce",
   "metadata": {},
   "outputs": [],
   "source": [
    "def maximize_batch(target_fn,gradient_fn,theta_0,tolerance=0.000001):\n",
    "    return minimize_batch(negate(target_fn),negate_all(gradient_fn),theta_0,tolerance)"
   ]
  },
  {
   "cell_type": "code",
   "execution_count": null,
   "id": "969556a4",
   "metadata": {},
   "outputs": [],
   "source": []
  }
 ],
 "metadata": {
  "kernelspec": {
   "display_name": "Python 3 (ipykernel)",
   "language": "python",
   "name": "python3"
  },
  "language_info": {
   "codemirror_mode": {
    "name": "ipython",
    "version": 3
   },
   "file_extension": ".py",
   "mimetype": "text/x-python",
   "name": "python",
   "nbconvert_exporter": "python",
   "pygments_lexer": "ipython3",
   "version": "3.9.7"
  }
 },
 "nbformat": 4,
 "nbformat_minor": 5
}
