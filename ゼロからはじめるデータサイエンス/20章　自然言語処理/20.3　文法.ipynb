{
 "cells": [
  {
   "cell_type": "code",
   "execution_count": 5,
   "id": "6ea1444d",
   "metadata": {},
   "outputs": [],
   "source": [
    "grammer = {\n",
    "    \"_S\" :[\"_NP _VP\"],\n",
    "    \"_NP\":[\"_N\",\"_A _NP _P _A _N\"],\n",
    "    \"_VP\":[\"_V\",\"_V _NP\"],\n",
    "    \"_N\":[\"data science\",\"Python\",\"regression\"],\n",
    "    \"_A\":[\"big\",\"linear\",\"logistic\"],\n",
    "    \"_P\":[\"about\",\"near\"],\n",
    "    \"_V\":[\"learns\",\"trains\",\"tests\",\"is\"]\n",
    "}"
   ]
  },
  {
   "cell_type": "code",
   "execution_count": 6,
   "id": "15472c55",
   "metadata": {},
   "outputs": [],
   "source": [
    "def is_terminal(token):\n",
    "    return token[0] != \"_\""
   ]
  },
  {
   "cell_type": "code",
   "execution_count": 1,
   "id": "bb6b7fc8",
   "metadata": {},
   "outputs": [],
   "source": [
    "def expand(grammer,tokens):\n",
    "    import random\n",
    "    \n",
    "    for i,token in enumerate(tokens):\n",
    "        if is_terminal(token):continue\n",
    "        replacement = random.choice(grammer[token])\n",
    "        \n",
    "        if is_terminal(replacement):\n",
    "            tokens[i] = replacement\n",
    "        else:\n",
    "            tokens = tokens[:i] + replacement.split() + tokens[(i + 1):]\n",
    "        return expand(grammer,tokens)\n",
    "    return tokens"
   ]
  },
  {
   "cell_type": "code",
   "execution_count": 2,
   "id": "7f9ee02e",
   "metadata": {},
   "outputs": [],
   "source": [
    "def generate_sentence(grammer):\n",
    "    return expand(grammer,[\"_S\"])"
   ]
  },
  {
   "cell_type": "code",
   "execution_count": 8,
   "id": "6fe1000b",
   "metadata": {},
   "outputs": [
    {
     "name": "stdout",
     "output_type": "stream",
     "text": [
      "['regression', 'is', 'logistic', 'Python', 'about', 'big', 'Python']\n"
     ]
    }
   ],
   "source": [
    "data_text = generate_sentence(grammer)\n",
    "print(data_text)"
   ]
  },
  {
   "cell_type": "code",
   "execution_count": null,
   "id": "f037ac72",
   "metadata": {},
   "outputs": [],
   "source": []
  }
 ],
 "metadata": {
  "kernelspec": {
   "display_name": "Python 3 (ipykernel)",
   "language": "python",
   "name": "python3"
  },
  "language_info": {
   "codemirror_mode": {
    "name": "ipython",
    "version": 3
   },
   "file_extension": ".py",
   "mimetype": "text/x-python",
   "name": "python",
   "nbconvert_exporter": "python",
   "pygments_lexer": "ipython3",
   "version": "3.9.7"
  }
 },
 "nbformat": 4,
 "nbformat_minor": 5
}
