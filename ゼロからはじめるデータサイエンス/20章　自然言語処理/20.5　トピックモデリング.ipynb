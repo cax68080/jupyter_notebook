{
 "cells": [
  {
   "cell_type": "code",
   "execution_count": null,
   "id": "a58c1c11",
   "metadata": {},
   "outputs": [],
   "source": [
    "import random"
   ]
  },
  {
   "cell_type": "code",
   "execution_count": 1,
   "id": "a46192b0",
   "metadata": {},
   "outputs": [],
   "source": [
    "def sample_from(weights):\n",
    "    total = sum(weights)\n",
    "    rnd = total * random.random()\n",
    "    for i,w in enumerate(weights):\n",
    "        rnd -= w\n",
    "        if rnd <= 0: return i"
   ]
  },
  {
   "cell_type": "code",
   "execution_count": 2,
   "id": "62fc2ff0",
   "metadata": {},
   "outputs": [],
   "source": [
    "documents = [\n",
    "    [\"Hadoop\",\"Big Data\",\"HBase\",\"Java\",\"Spark\",\"Storm\",\"Cassandra\"],\n",
    "    [\"NoSQL\",\"MongoDB\",\"Cassandra\",\"HBase\",\"Postgres\"],\n",
    "    [\"Python\",\"scikit-learn\",\"scipy\",\"numpy\",\"statsmodels\",\"pandas\"],\n",
    "    [\"R\",\"Python\",\"statistics\",\"regression\",\"probability\"],\n",
    "    [\"machine learning\",\"regression\",\"decision trees\",\"livsvm\"],\n",
    "    [\"Python\",\"R\",\"Java\",\"C++\",\"Haskell\",\"programming languages\"],\n",
    "    [\"statistics\",\"probability\",\"mathematics\",\"theory\"],\n",
    "    [\"machine learning\",\"scikit-learn\",\"Mahout\",\"neural networks\"],\n",
    "    [\"neural networks\",\"deep learning\",\"Big Data\",\"artifical intelligence\"],\n",
    "    [\"Hadoop\",\"Java\",\"MapReduse\",\"Big Data\"],\n",
    "    [\"statistics\",\"R\",\"statsmodels\"],\n",
    "    [\"C++\",\"deep learning\",\"artifical intelligence\",\"probability\"],\n",
    "    [\"pandas\",\"R\",\"Python\"],\n",
    "    [\"databases\",\"HBase\",\"Postgres\",\"MySQL\",\"MongoDB\"],\n",
    "    [\"libsvm\",\"regression\",\"support vector machines\"]\n",
    "]"
   ]
  },
  {
   "cell_type": "code",
   "execution_count": 19,
   "id": "e9bf2888",
   "metadata": {},
   "outputs": [],
   "source": [
    "from collections import Counter\n",
    "K = 4\n",
    "document_topic_counts = [Counter() for _ in documents]\n",
    "topic_word_counts = [Counter() for _ in range(K)]\n",
    "topic_counts = [0 for _ in range(K)]\n",
    "document_length = list(map(len,documents))\n",
    "distinct_words = set(word for document in documents for word in document)\n",
    "W = len(distinct_words)\n",
    "D = len(documents)"
   ]
  },
  {
   "cell_type": "code",
   "execution_count": 5,
   "id": "e8535b35",
   "metadata": {},
   "outputs": [
    {
     "name": "stdout",
     "output_type": "stream",
     "text": [
      "37\n",
      "15\n"
     ]
    }
   ],
   "source": [
    "print(w)\n",
    "print(D)"
   ]
  },
  {
   "cell_type": "code",
   "execution_count": 20,
   "id": "971ab3ca",
   "metadata": {},
   "outputs": [
    {
     "data": {
      "text/plain": [
       "0"
      ]
     },
     "execution_count": 20,
     "metadata": {},
     "output_type": "execute_result"
    }
   ],
   "source": [
    "document_topic_counts[3][4]"
   ]
  },
  {
   "cell_type": "code",
   "execution_count": 21,
   "id": "df6db223",
   "metadata": {},
   "outputs": [
    {
     "data": {
      "text/plain": [
       "0"
      ]
     },
     "execution_count": 21,
     "metadata": {},
     "output_type": "execute_result"
    }
   ],
   "source": [
    "topic_word_counts[2][\"nlp\"]"
   ]
  },
  {
   "cell_type": "code",
   "execution_count": 22,
   "id": "a85ec9c6",
   "metadata": {},
   "outputs": [],
   "source": [
    "def p_topic_given_document(topic,d,alpha=0.1):\n",
    "    return ((document_topic_counts[d][topic] + alpha) / (document_length[d] + K * alpha))\n",
    "def p_word_given_topic(word,topic,beta=0.1):\n",
    "    return ((topic_word_counts[topic][word] + beta) / (topic_counts[topic] + W * beta))\n",
    "def topic_weight(d,word,k):\n",
    "    return p_word_given_topic(word,k) * p_topic_given_document(k,d)\n",
    "def choose_new_topic(d,word):\n",
    "    return sample_from([topic_weight(d,word,k) for k in range(K)])"
   ]
  },
  {
   "cell_type": "code",
   "execution_count": 23,
   "id": "f33dd469",
   "metadata": {},
   "outputs": [
    {
     "name": "stdout",
     "output_type": "stream",
     "text": [
      "0 scikit-learn 2\n",
      "0 machine learning 2\n",
      "0 C++ 1\n",
      "0 programming languages 1\n",
      "0 scipy 1\n",
      "0 numpy 1\n",
      "0 deep learning 1\n",
      "0 neural networks 1\n",
      "0 decision trees 1\n",
      "0 Mahout 1\n",
      "1 Python 4\n",
      "1 R 4\n",
      "1 probability 3\n",
      "1 statistics 3\n",
      "1 artifical intelligence 2\n",
      "1 pandas 2\n",
      "1 statsmodels 2\n",
      "1 theory 1\n",
      "1 neural networks 1\n",
      "1 deep learning 1\n",
      "1 regression 1\n",
      "1 Java 1\n",
      "1 Haskell 1\n",
      "1 Big Data 1\n",
      "1 C++ 1\n",
      "1 mathematics 1\n",
      "2 regression 2\n",
      "2 Spark 1\n",
      "2 Storm 1\n",
      "2 support vector machines 1\n",
      "2 libsvm 1\n",
      "3 HBase 3\n",
      "3 Hadoop 2\n",
      "3 Big Data 2\n",
      "3 Cassandra 2\n",
      "3 Java 2\n",
      "3 MongoDB 2\n",
      "3 Postgres 2\n",
      "3 NoSQL 1\n",
      "3 livsvm 1\n",
      "3 MapReduse 1\n",
      "3 MySQL 1\n",
      "3 databases 1\n",
      "['Hadoop', 'Big Data', 'HBase', 'Java', 'Spark', 'Storm', 'Cassandra']\n",
      "machine learning 5\n",
      "databases 2\n",
      "Big Data and programming languages 0\n",
      "Python and statistics 0\n",
      "['NoSQL', 'MongoDB', 'Cassandra', 'HBase', 'Postgres']\n",
      "machine learning 5\n",
      "databases 0\n",
      "Python and statistics 0\n",
      "Big Data and programming languages 0\n",
      "['Python', 'scikit-learn', 'scipy', 'numpy', 'statsmodels', 'pandas']\n",
      "Python and statistics 3\n",
      "Big Data and programming languages 3\n",
      "databases 0\n",
      "machine learning 0\n",
      "['R', 'Python', 'statistics', 'regression', 'probability']\n",
      "Python and statistics 5\n",
      "Big Data and programming languages 0\n",
      "databases 0\n",
      "machine learning 0\n",
      "['machine learning', 'regression', 'decision trees', 'livsvm']\n",
      "Big Data and programming languages 2\n",
      "machine learning 1\n",
      "databases 1\n",
      "Python and statistics 0\n",
      "['Python', 'R', 'Java', 'C++', 'Haskell', 'programming languages']\n",
      "Python and statistics 4\n",
      "Big Data and programming languages 2\n",
      "machine learning 0\n",
      "databases 0\n",
      "['statistics', 'probability', 'mathematics', 'theory']\n",
      "Python and statistics 4\n",
      "Big Data and programming languages 0\n",
      "machine learning 0\n",
      "databases 0\n",
      "['machine learning', 'scikit-learn', 'Mahout', 'neural networks']\n",
      "Big Data and programming languages 4\n",
      "databases 0\n",
      "Python and statistics 0\n",
      "machine learning 0\n",
      "['neural networks', 'deep learning', 'Big Data', 'artifical intelligence']\n",
      "Python and statistics 4\n",
      "machine learning 0\n",
      "Big Data and programming languages 0\n",
      "databases 0\n",
      "['Hadoop', 'Java', 'MapReduse', 'Big Data']\n",
      "machine learning 4\n",
      "Big Data and programming languages 0\n",
      "databases 0\n",
      "Python and statistics 0\n",
      "['statistics', 'R', 'statsmodels']\n",
      "Python and statistics 3\n",
      "databases 0\n",
      "Big Data and programming languages 0\n",
      "machine learning 0\n",
      "['C++', 'deep learning', 'artifical intelligence', 'probability']\n",
      "Python and statistics 3\n",
      "Big Data and programming languages 1\n",
      "databases 0\n",
      "machine learning 0\n",
      "['pandas', 'R', 'Python']\n",
      "Python and statistics 3\n",
      "Big Data and programming languages 0\n",
      "machine learning 0\n",
      "databases 0\n",
      "['databases', 'HBase', 'Postgres', 'MySQL', 'MongoDB']\n",
      "machine learning 5\n",
      "Python and statistics 0\n",
      "databases 0\n",
      "Big Data and programming languages 0\n",
      "['libsvm', 'regression', 'support vector machines']\n",
      "databases 3\n",
      "Big Data and programming languages 0\n",
      "machine learning 0\n",
      "Python and statistics 0\n"
     ]
    }
   ],
   "source": [
    "import random\n",
    "\n",
    "random.seed(0)\n",
    "document_topics = [[random.randrange(K) for word in document] for document in documents]\n",
    "\n",
    "for d in range(D):\n",
    "    for word,topic,in zip(documents[d],document_topics[d]):\n",
    "        document_topic_counts[d][topic] += 1\n",
    "        topic_word_counts[topic][word] += 1\n",
    "        topic_counts[topic] += 1\n",
    "        \n",
    "for ietr in range(1000):\n",
    "    for d in range(D):\n",
    "        for i,(word,topic) in enumerate(zip(documents[d],document_topics[d])):\n",
    "            document_topic_counts[d][topic] -= 1\n",
    "            topic_word_counts[topic][word] -= 1\n",
    "            topic_counts[topic] -= 1\n",
    "            document_length[d] -= 1\n",
    "            \n",
    "            new_topic = choose_new_topic(d,word)\n",
    "            document_topics[d][i] = new_topic\n",
    "            \n",
    "            document_topic_counts[d][new_topic] += 1\n",
    "            topic_word_counts[new_topic][word] += 1\n",
    "            topic_counts[new_topic] += 1\n",
    "            document_length[d] += 1\n",
    "            \n",
    "for k,word_counts in enumerate(topic_word_counts):\n",
    "    for word,count in word_counts.most_common():\n",
    "        if count > 0:\n",
    "            print(k,word,count)\n",
    "\n",
    "topic_names = [\"Big Data and programming languages\",\n",
    "              \"Python and statistics\",\n",
    "              \"databases\",\n",
    "              \"machine learning\"]\n",
    "\n",
    "for document,topic_counts in zip(documents,document_topic_counts):\n",
    "    print(document)\n",
    "    for topic,count in topic_counts.most_common():\n",
    "        print(topic_names[topic],count)"
   ]
  },
  {
   "cell_type": "code",
   "execution_count": null,
   "id": "58590068",
   "metadata": {},
   "outputs": [],
   "source": []
  }
 ],
 "metadata": {
  "kernelspec": {
   "display_name": "Python 3 (ipykernel)",
   "language": "python",
   "name": "python3"
  },
  "language_info": {
   "codemirror_mode": {
    "name": "ipython",
    "version": 3
   },
   "file_extension": ".py",
   "mimetype": "text/x-python",
   "name": "python",
   "nbconvert_exporter": "python",
   "pygments_lexer": "ipython3",
   "version": "3.9.7"
  }
 },
 "nbformat": 4,
 "nbformat_minor": 5
}
