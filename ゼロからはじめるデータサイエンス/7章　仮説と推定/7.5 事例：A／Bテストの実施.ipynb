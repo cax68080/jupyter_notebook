{
 "cells": [
  {
   "cell_type": "code",
   "execution_count": 1,
   "id": "0d00352a",
   "metadata": {},
   "outputs": [],
   "source": [
    "import math"
   ]
  },
  {
   "cell_type": "code",
   "execution_count": 9,
   "id": "eb25f23a",
   "metadata": {},
   "outputs": [],
   "source": [
    "def normal_cdf(x,mu=0,sigma=1):\n",
    "    return (1 + math.erf((x - mu) / math.sqrt(2) / sigma)) / 2\n",
    "def two_sided_p_value(x,mu=0,sigma=1):\n",
    "    if x >= mu:\n",
    "        return 2 * normal_probability_above(x,mu,sigma)\n",
    "    else:\n",
    "        return 2 * normal_probability_below(x,mu,sigma)\n",
    "normal_probability_below = normal_cdf\n",
    "def normal_probability_above(lo,mu=0,sigma=1):\n",
    "    return 1 - normal_cdf(lo,mu,sigma)"
   ]
  },
  {
   "cell_type": "code",
   "execution_count": 2,
   "id": "831dfb09",
   "metadata": {},
   "outputs": [],
   "source": [
    "def estimated_parameters(N,n):\n",
    "    p = n / N\n",
    "    sigma = math.sqrt(p * (1 - p) / N)\n",
    "    return p,sigma"
   ]
  },
  {
   "cell_type": "code",
   "execution_count": 3,
   "id": "ca7730a0",
   "metadata": {},
   "outputs": [],
   "source": [
    "def a_b_test_statistic(N_A,n_A,N_B,n_B):\n",
    "    p_A,sigma_A = estimated_parameters(N_A,n_A)\n",
    "    p_B,sigma_B = estimated_parameters(N_B,n_B)\n",
    "    return (p_B - p_A) / math.sqrt(sigma_A ** 2 + sigma_B ** 2)"
   ]
  },
  {
   "cell_type": "code",
   "execution_count": 5,
   "id": "0f66d425",
   "metadata": {},
   "outputs": [
    {
     "name": "stdout",
     "output_type": "stream",
     "text": [
      "-1.1403464899034472\n"
     ]
    }
   ],
   "source": [
    "z = a_b_test_statistic(1000,200,1000,180)\n",
    "print(z)"
   ]
  },
  {
   "cell_type": "code",
   "execution_count": 10,
   "id": "22768e1a",
   "metadata": {},
   "outputs": [
    {
     "data": {
      "text/plain": [
       "0.254141976542236"
      ]
     },
     "execution_count": 10,
     "metadata": {},
     "output_type": "execute_result"
    }
   ],
   "source": [
    "two_sided_p_value(z)"
   ]
  },
  {
   "cell_type": "code",
   "execution_count": 11,
   "id": "d800d2ff",
   "metadata": {},
   "outputs": [
    {
     "name": "stdout",
     "output_type": "stream",
     "text": [
      "-2.948839123097944\n"
     ]
    }
   ],
   "source": [
    "z = a_b_test_statistic(1000,200,1000,150)\n",
    "print(z)"
   ]
  },
  {
   "cell_type": "code",
   "execution_count": 12,
   "id": "c462877b",
   "metadata": {},
   "outputs": [
    {
     "data": {
      "text/plain": [
       "0.003189699706216853"
      ]
     },
     "execution_count": 12,
     "metadata": {},
     "output_type": "execute_result"
    }
   ],
   "source": [
    "two_sided_p_value(z)"
   ]
  },
  {
   "cell_type": "code",
   "execution_count": null,
   "id": "e12dcd3a",
   "metadata": {},
   "outputs": [],
   "source": []
  }
 ],
 "metadata": {
  "kernelspec": {
   "display_name": "Python 3 (ipykernel)",
   "language": "python",
   "name": "python3"
  },
  "language_info": {
   "codemirror_mode": {
    "name": "ipython",
    "version": 3
   },
   "file_extension": ".py",
   "mimetype": "text/x-python",
   "name": "python",
   "nbconvert_exporter": "python",
   "pygments_lexer": "ipython3",
   "version": "3.9.7"
  }
 },
 "nbformat": 4,
 "nbformat_minor": 5
}
