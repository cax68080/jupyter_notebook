{
 "cells": [
  {
   "cell_type": "markdown",
   "id": "ad4b0774",
   "metadata": {},
   "source": [
    "5.1 データの特徴を表す"
   ]
  },
  {
   "cell_type": "code",
   "execution_count": 27,
   "id": "23331e88",
   "metadata": {},
   "outputs": [],
   "source": [
    "from matplotlib  import pyplot as plt\n",
    "from collections import Counter\n",
    "import math"
   ]
  },
  {
   "cell_type": "code",
   "execution_count": 15,
   "id": "66cfa8ba",
   "metadata": {},
   "outputs": [],
   "source": [
    "num_friends = [100,49,41,25,30,10]"
   ]
  },
  {
   "cell_type": "code",
   "execution_count": 8,
   "id": "942a70c4",
   "metadata": {},
   "outputs": [
    {
     "data": {
      "image/png": "[encoded data removed]",
      "text/plain": [
       "<Figure size 432x288 with 1 Axes>"
      ]
     },
     "metadata": {
      "needs_background": "light"
     },
     "output_type": "display_data"
    }
   ],
   "source": [
    "friend_counts = Counter(num_friends)\n",
    "xs = range(101)\n",
    "ys = [friend_counts[x] for x in xs]\n",
    "plt.bar(xs,ys)\n",
    "plt.axis([0,101,0,25])\n",
    "plt.title(\"Histogram of Friend Counts\")\n",
    "plt.xlabel(\"# of friends\")\n",
    "plt.ylabel(\"# of people\")\n",
    "plt.show()"
   ]
  },
  {
   "cell_type": "code",
   "execution_count": 9,
   "id": "fcaef7ea",
   "metadata": {},
   "outputs": [
    {
     "data": {
      "text/plain": [
       "5"
      ]
     },
     "execution_count": 9,
     "metadata": {},
     "output_type": "execute_result"
    }
   ],
   "source": [
    "num_points = len(num_friends)\n",
    "num_points"
   ]
  },
  {
   "cell_type": "raw",
   "id": "590ddf5c",
   "metadata": {},
   "source": [
    "largest_value = max(num_friends)\n",
    "smallest_value = min(num_friends)\n",
    "print(largest_value)\n",
    "print(smallest_value)"
   ]
  },
  {
   "cell_type": "code",
   "execution_count": 11,
   "id": "fcecd0f5",
   "metadata": {},
   "outputs": [
    {
     "name": "stdout",
     "output_type": "stream",
     "text": [
      "25\n",
      "30\n",
      "49\n"
     ]
    }
   ],
   "source": [
    "sorted_values = sorted(num_friends)\n",
    "smallest_value = sorted_values[0]\n",
    "second_smallest_value = sorted_values[1]\n",
    "second_largest_value = sorted_values[-2]\n",
    "print(smallest_value)\n",
    "print(second_smallest_value)\n",
    "print(second_largest_value)"
   ]
  },
  {
   "cell_type": "markdown",
   "id": "e0ee3845",
   "metadata": {},
   "source": [
    "5.1.1 代表値"
   ]
  },
  {
   "cell_type": "code",
   "execution_count": 12,
   "id": "2c672c45",
   "metadata": {},
   "outputs": [
    {
     "data": {
      "text/plain": [
       "49.0"
      ]
     },
     "execution_count": 12,
     "metadata": {},
     "output_type": "execute_result"
    }
   ],
   "source": [
    "def mean(x):\n",
    "    return sum(x) / len(x)\n",
    "\n",
    "mean(num_friends)"
   ]
  },
  {
   "cell_type": "code",
   "execution_count": 17,
   "id": "f9c958a7",
   "metadata": {},
   "outputs": [
    {
     "data": {
      "text/plain": [
       "35.5"
      ]
     },
     "execution_count": 17,
     "metadata": {},
     "output_type": "execute_result"
    }
   ],
   "source": [
    "def median(v):\n",
    "    n = len(v)\n",
    "    sorted_v = sorted(v)\n",
    "    midpoint = n // 2\n",
    "    \n",
    "    if n % 2 == 1:\n",
    "        return sorted_v[midpoint]\n",
    "    else:\n",
    "        lo = midpoint - 1\n",
    "        hi = midpoint\n",
    "        return(sorted_v[lo] + sorted_v[hi]) / 2\n",
    "median(num_friends)"
   ]
  },
  {
   "cell_type": "code",
   "execution_count": 18,
   "id": "b6740aa5",
   "metadata": {},
   "outputs": [
    {
     "name": "stdout",
     "output_type": "stream",
     "text": [
      "10\n",
      "25\n",
      "49\n",
      "100\n"
     ]
    }
   ],
   "source": [
    "#分位数\n",
    "def quantile(x,p):\n",
    "    p_index = int(p * len(x))\n",
    "    return sorted(x)[p_index]\n",
    "\n",
    "print(quantile(num_friends,0.10))\n",
    "print(quantile(num_friends,0.25))\n",
    "print(quantile(num_friends,0.75))\n",
    "print(quantile(num_friends,0.90))\n",
    "\n"
   ]
  },
  {
   "cell_type": "code",
   "execution_count": 20,
   "id": "33a1c082",
   "metadata": {},
   "outputs": [
    {
     "data": {
      "text/plain": [
       "[100, 49, 41, 25, 30, 10]"
      ]
     },
     "execution_count": 20,
     "metadata": {},
     "output_type": "execute_result"
    }
   ],
   "source": [
    "#最頻値\n",
    "def mode(x):\n",
    "    counts = Counter(x)\n",
    "    max_count = max(counts.values())\n",
    "    return [x_i for x_i,count in counts.items() if count == max_count]\n",
    "mode(num_friends)"
   ]
  },
  {
   "cell_type": "markdown",
   "id": "144e1b63",
   "metadata": {},
   "source": [
    "5.1.2 散らばり"
   ]
  },
  {
   "cell_type": "code",
   "execution_count": 21,
   "id": "07146b11",
   "metadata": {},
   "outputs": [
    {
     "data": {
      "text/plain": [
       "90"
      ]
     },
     "execution_count": 21,
     "metadata": {},
     "output_type": "execute_result"
    }
   ],
   "source": [
    "def data_range(x):\n",
    "    return max(x) - min(x)\n",
    "data_range(num_friends)"
   ]
  },
  {
   "cell_type": "code",
   "execution_count": 24,
   "id": "89c8cf37",
   "metadata": {},
   "outputs": [
    {
     "data": {
      "text/plain": [
       "973.9"
      ]
     },
     "execution_count": 24,
     "metadata": {},
     "output_type": "execute_result"
    }
   ],
   "source": [
    "#分散\n",
    "def de_mean(x):\n",
    "    x_bar = mean(x)\n",
    "    return [x_i - x_bar for x_i in x]\n",
    "def dot(v,w):\n",
    "    return sum(v_i * w_i for v_i,w_i in zip(v,w))\n",
    "def sum_of_squares(v):\n",
    "    return dot(v,v)\n",
    "def variance(x):\n",
    "    n = len(x)\n",
    "    deviations = de_mean(x)\n",
    "    return sum_of_squares(deviations) / (n - 1)\n",
    "variance(num_friends)"
   ]
  },
  {
   "cell_type": "code",
   "execution_count": 28,
   "id": "5c00b5c3",
   "metadata": {},
   "outputs": [
    {
     "data": {
      "text/plain": [
       "31.20737092419033"
      ]
     },
     "execution_count": 28,
     "metadata": {},
     "output_type": "execute_result"
    }
   ],
   "source": [
    "def standard_deviation(x):\n",
    "    return math.sqrt(variance(x))\n",
    "standard_deviation(num_friends)"
   ]
  },
  {
   "cell_type": "code",
   "execution_count": 29,
   "id": "6eefba86",
   "metadata": {},
   "outputs": [
    {
     "data": {
      "text/plain": [
       "24"
      ]
     },
     "execution_count": 29,
     "metadata": {},
     "output_type": "execute_result"
    }
   ],
   "source": [
    "def interquartile_range(x):\n",
    "    return quantile(x,0.75) - quantile(x,0.25)\n",
    "interquartile_range(num_friends)"
   ]
  },
  {
   "cell_type": "code",
   "execution_count": null,
   "id": "6db16046",
   "metadata": {},
   "outputs": [],
   "source": []
  }
 ],
 "metadata": {
  "kernelspec": {
   "display_name": "Python 3 (ipykernel)",
   "language": "python",
   "name": "python3"
  },
  "language_info": {
   "codemirror_mode": {
    "name": "ipython",
    "version": 3
   },
   "file_extension": ".py",
   "mimetype": "text/x-python",
   "name": "python",
   "nbconvert_exporter": "python",
   "pygments_lexer": "ipython3",
   "version": "3.9.7"
  }
 },
 "nbformat": 4,
 "nbformat_minor": 5
}
