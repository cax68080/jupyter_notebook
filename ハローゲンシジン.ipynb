{
 "cells": [
  {
   "cell_type": "code",
   "execution_count": 6,
   "id": "473f16ad",
   "metadata": {
    "collapsed": true
   },
   "outputs": [
    {
     "name": "stdout",
     "output_type": "stream",
     "text": [
      "Requirement already satisfied: pip in c:\\programdata\\anaconda3\\lib\\site-packages (22.2)\n",
      "Collecting pip\n",
      "  Using cached pip-22.2.2-py3-none-any.whl (2.0 MB)\n",
      "Installing collected packages: pip\n",
      "  Attempting uninstall: pip\n",
      "    Found existing installation: pip 22.2\n",
      "    Uninstalling pip-22.2:\n",
      "\n",
      "[notice] A new release of pip available: 22.2 -> 22.2.2\n",
      "[notice] To update, run: python.exe -m pip install --upgrade pip\n"
     ]
    },
    {
     "name": "stderr",
     "output_type": "stream",
     "text": [
      "WARNING: Ignoring invalid distribution -ip (c:\\programdata\\anaconda3\\lib\\site-packages)\n",
      "WARNING: Ignoring invalid distribution -ip (c:\\programdata\\anaconda3\\lib\\site-packages)\n",
      "WARNING: Ignoring invalid distribution -ip (c:\\programdata\\anaconda3\\lib\\site-packages)\n",
      "    WARNING: Ignoring invalid distribution -ip (c:\\programdata\\anaconda3\\lib\\site-packages)\n",
      "ERROR: Could not install packages due to an OSError: [WinError 5] アクセスが拒否されました。: 'c:\\\\programdata\\\\anaconda3\\\\lib\\\\site-packages\\\\pip-22.2.dist-info\\\\entry_points.txt'\n",
      "Consider using the `--user` option or check the permissions.\n",
      "\n",
      "WARNING: Ignoring invalid distribution -ip (c:\\programdata\\anaconda3\\lib\\site-packages)\n",
      "WARNING: Ignoring invalid distribution -ip (c:\\programdata\\anaconda3\\lib\\site-packages)\n",
      "WARNING: Ignoring invalid distribution -ip (c:\\programdata\\anaconda3\\lib\\site-packages)\n"
     ]
    }
   ],
   "source": [
    "!python.exe -m pip install --upgrade pip"
   ]
  },
  {
   "cell_type": "code",
   "execution_count": 7,
   "id": "f740b759",
   "metadata": {
    "collapsed": true
   },
   "outputs": [
    {
     "name": "stdout",
     "output_type": "stream",
     "text": [
      "Requirement already satisfied: janome==0.4.1 in c:\\programdata\\anaconda3\\lib\\site-packages (0.4.1)\n"
     ]
    },
    {
     "name": "stderr",
     "output_type": "stream",
     "text": [
      "WARNING: Ignoring invalid distribution -p (c:\\programdata\\anaconda3\\lib\\site-packages)\n",
      "WARNING: Ignoring invalid distribution -ip (c:\\programdata\\anaconda3\\lib\\site-packages)\n",
      "WARNING: Ignoring invalid distribution - (c:\\programdata\\anaconda3\\lib\\site-packages)\n",
      "WARNING: Ignoring invalid distribution -p (c:\\programdata\\anaconda3\\lib\\site-packages)\n",
      "WARNING: Ignoring invalid distribution -ip (c:\\programdata\\anaconda3\\lib\\site-packages)\n",
      "WARNING: Ignoring invalid distribution - (c:\\programdata\\anaconda3\\lib\\site-packages)\n",
      "WARNING: Ignoring invalid distribution -p (c:\\programdata\\anaconda3\\lib\\site-packages)\n",
      "WARNING: Ignoring invalid distribution -ip (c:\\programdata\\anaconda3\\lib\\site-packages)\n",
      "WARNING: Ignoring invalid distribution - (c:\\programdata\\anaconda3\\lib\\site-packages)\n",
      "WARNING: Ignoring invalid distribution -p (c:\\programdata\\anaconda3\\lib\\site-packages)\n",
      "WARNING: Ignoring invalid distribution -ip (c:\\programdata\\anaconda3\\lib\\site-packages)\n",
      "WARNING: Ignoring invalid distribution - (c:\\programdata\\anaconda3\\lib\\site-packages)\n",
      "WARNING: Ignoring invalid distribution -p (c:\\programdata\\anaconda3\\lib\\site-packages)\n",
      "WARNING: Ignoring invalid distribution -ip (c:\\programdata\\anaconda3\\lib\\site-packages)\n",
      "WARNING: Ignoring invalid distribution - (c:\\programdata\\anaconda3\\lib\\site-packages)\n",
      "WARNING: Ignoring invalid distribution -p (c:\\programdata\\anaconda3\\lib\\site-packages)\n",
      "WARNING: Ignoring invalid distribution -ip (c:\\programdata\\anaconda3\\lib\\site-packages)\n",
      "WARNING: Ignoring invalid distribution - (c:\\programdata\\anaconda3\\lib\\site-packages)\n"
     ]
    }
   ],
   "source": [
    "!pip install janome==0.4.1"
   ]
  },
  {
   "cell_type": "markdown",
   "id": "7445a32b",
   "metadata": {},
   "source": [
    "### **原始的な形態素解析の第一歩**"
   ]
  },
  {
   "cell_type": "code",
   "execution_count": 8,
   "id": "d75bdb16",
   "metadata": {},
   "outputs": [
    {
     "name": "stdout",
     "output_type": "stream",
     "text": [
      "オレ\t名詞,代名詞,一般,*,*,*,オレ,オレ,オレ\n",
      "は\t助詞,係助詞,*,*,*,*,は,ハ,ワ\n",
      "肉\t名詞,一般,*,*,*,*,肉,ニク,ニク\n",
      "を\t助詞,格助詞,一般,*,*,*,を,ヲ,ヲ\n",
      "食う\t動詞,自立,*,*,五段・ワ行促音便,基本形,食う,クウ,クウ\n",
      "！\t記号,一般,*,*,*,*,！,！,！\n"
     ]
    }
   ],
   "source": [
    "#Janomeのロード\n",
    "from janome.tokenizer import Tokenizer\n",
    "\n",
    "#Tokenizerインスタンスの生成\n",
    "tokenizer = Tokenizer()\n",
    "\n",
    "#形態素解析の実施\n",
    "tokens = tokenizer.tokenize(\"オレは肉を食う！\")\n",
    "\n",
    "#解析結果の出力：複数の結果が入っており、ループ処理で順番に表示する\n",
    "for token in tokens:\n",
    "    print(token) #各単語の全情報"
   ]
  },
  {
   "cell_type": "markdown",
   "id": "75e32731",
   "metadata": {},
   "source": [
    "### **Janomeの使い方確認**"
   ]
  },
  {
   "cell_type": "code",
   "execution_count": 10,
   "id": "8567f5d8",
   "metadata": {},
   "outputs": [
    {
     "name": "stdout",
     "output_type": "stream",
     "text": [
      "こんばんは\t感動詞,*,*,*,*,*,こんばんは,コンバンハ,コンバンワ\n",
      "コンバンハ\n",
      "None\n",
      "感動詞,*,*,*\n",
      "['感動詞', '*', '*', '*']\n",
      "感動詞\n",
      "-----\n",
      "。\t記号,句点,*,*,*,*,。,。,。\n",
      "。\n",
      "None\n",
      "記号,句点,*,*\n",
      "['記号', '句点', '*', '*']\n",
      "記号\n",
      "-----\n",
      "森\t名詞,固有名詞,人名,姓,*,*,森,モリ,モリ\n",
      "モリ\n",
      "None\n",
      "名詞,固有名詞,人名,姓\n",
      "['名詞', '固有名詞', '人名', '姓']\n",
      "名詞\n",
      "-----\n",
      "進一\t名詞,固有名詞,人名,名,*,*,進一,シンイチ,シンイチ\n",
      "シンイチ\n",
      "None\n",
      "名詞,固有名詞,人名,名\n",
      "['名詞', '固有名詞', '人名', '名']\n",
      "名詞\n",
      "-----\n",
      "です\t助動詞,*,*,*,特殊・デス,基本形,です,デス,デス\n",
      "デス\n",
      "None\n",
      "助動詞,*,*,*\n",
      "['助動詞', '*', '*', '*']\n",
      "助動詞\n",
      "-----\n",
      "。\t記号,句点,*,*,*,*,。,。,。\n",
      "。\n",
      "None\n",
      "記号,句点,*,*\n",
      "['記号', '句点', '*', '*']\n",
      "記号\n",
      "-----\n"
     ]
    }
   ],
   "source": [
    "#Janomeのロード\n",
    "from janome.tokenizer import Tokenizer\n",
    "\n",
    "#Tokenizerインスタンスの生成\n",
    "tokenizer = Tokenizer()\n",
    "\n",
    "#形態素解析の実施\n",
    "tokens = tokenizer.tokenize(\"こんばんは。森進一です。\")\n",
    "\n",
    "#解析結果の出力\n",
    "for token in tokens:\n",
    "    print(token) #各単語の全情報\n",
    "    print(token.reading) #ヨミガナ\n",
    "    print(token.baseform) #(動詞などの)原型\n",
    "    print(token.part_of_speech) #品詞情報\n",
    "    print(token.part_of_speech.split(',')) #品詞情報をカンマで区切り、リスト形式に加工\n",
    "    print(token.part_of_speech.split(',')[0]) #[0]でリストの先頭の要素を参照\n",
    "    print(\"-----\")\n",
    "    "
   ]
  },
  {
   "cell_type": "markdown",
   "id": "7b9c84ff",
   "metadata": {},
   "source": [
    "### **ゲンシゴツール**\n",
    "    - すべてをカタカナに変える。\n",
    "    - 「助詞」を取り除く"
   ]
  },
  {
   "cell_type": "code",
   "execution_count": 13,
   "id": "283856df",
   "metadata": {},
   "outputs": [
    {
     "name": "stdout",
     "output_type": "stream",
     "text": [
      "コレ  キョウ  ミンナ ゲンシ ジン  ナル  \n",
      "ジンミン  ジンミン  ジンミン  タメ  セイジ \n",
      "キョジングン  エイエン  フメツ デス  \n"
     ]
    }
   ],
   "source": [
    "#Janomeをロードする\n",
    "from janome.tokenizer import Tokenizer\n",
    "\n",
    "#Tokenizerインスタンス生成\n",
    "tokenizer = Tokenizer()\n",
    "\n",
    "#日本語をゲンシゴにする関数\n",
    "def nihongo2gensigo(input_str):\n",
    "    #形態素解析の実施\n",
    "    tokens = tokenizer.tokenize(input_str)\n",
    "    #各tokenの変換結果を\" \"(半角スペース)でつなげる\n",
    "    result_str = \"\"\n",
    "    #すべてのtokenに、上で定義したtoken2gensigo関数を実行する\n",
    "    for token in tokens:\n",
    "        result_str += token2gensigo(token) + \" \"\n",
    "    return result_str\n",
    "#tokenが助詞の場合は空文字列、それ以外はヨミガナを返す関数\n",
    "def token2gensigo(input_token):\n",
    "    if input_token.part_of_speech.split(',')[0] == \"助詞\" or  input_token.part_of_speech.split(',')[0] == \"記号\":\n",
    "        return \"\"\n",
    "    else:\n",
    "        return input_token.reading\n",
    "print(nihongo2gensigo(\"これで今日からみんな原始人になる。\"))    \n",
    "print(nihongo2gensigo(\"人民の人民による人民のための政治\"))\n",
    "print(nihongo2gensigo(\"巨人軍は永遠に不滅です。\"))    \n",
    "\n"
   ]
  },
  {
   "cell_type": "code",
   "execution_count": null,
   "id": "2fee9bb6",
   "metadata": {},
   "outputs": [],
   "source": []
  }
 ],
 "metadata": {
  "kernelspec": {
   "display_name": "Python 3 (ipykernel)",
   "language": "python",
   "name": "python3"
  },
  "language_info": {
   "codemirror_mode": {
    "name": "ipython",
    "version": 3
   },
   "file_extension": ".py",
   "mimetype": "text/x-python",
   "name": "python",
   "nbconvert_exporter": "python",
   "pygments_lexer": "ipython3",
   "version": "3.9.7"
  }
 },
 "nbformat": 4,
 "nbformat_minor": 5
}
